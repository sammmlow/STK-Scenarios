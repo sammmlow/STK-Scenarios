{
 "cells": [
  {
   "cell_type": "markdown",
   "metadata": {
    "deletable": false,
    "editable": false
   },
   "source": [
    "<img src=\"Resources/L2STK-Master_Integration-banner.jpg\"></img>"
   ]
  },
  {
   "cell_type": "markdown",
   "metadata": {
    "deletable": false,
    "editable": false
   },
   "source": [
    "# <font style=\"color: rgb(91,155,213);\">Overview Instructions</font>\n",
    "***\n",
    "1. **Install STK:** [Download STK + Add Ons](https://support.agi.com/downloads/) and install it on your computer.\n",
    "2. **License STK:** Follow the license instructions in the registration email.\n",
    "3. **Download Materials from the** [Resource Page](https://register.agi.com/training/on-demand/stk-master/integration/)\n",
    "4. **Complete the Integration Exercise:**\n",
    "    1. Complete all of the STK integration tasks contained in this document\n",
    "    2. There are 30 multiple choice questions to answer throughout the tasks.\n",
    "    3. *This test must be completed independently and must be <b><u>your own work.</u></b>*\n",
    "4. **Submit answers in ClassMarker:**\n",
    "    1. Follow the instructions in the registration email to log in to ClassMarker.\n",
    "5. **Email [certification@agi.com](mailto://certification@agi.com) when you have submitted your test in ClassMarker.**    \n",
    "    \n",
    "    *<b><u>Please Note:</u></b> *Once you submit your test, we will grade it and get back to you within <u>5 business days</u>. If you have a special circumstance, please let us know and we will try our best to accommodate your request.*</div>\n",
    "\n",
    "### <font style=\"color: rgb(91,155,213);\">Note</font>\n",
    "- Familiarity with Python is assumed.  The [Python Tutorial](https://docs.python.org/3/tutorial/index.html) is a good resource if you need a refresher.\n",
    "- If you are new to Jupyter you might want to review the [Jupyter Basics](https://jupyter-notebook.readthedocs.io/en/stable/examples/Notebook/Notebook%20Basics.html) before going any further."
   ]
  },
  {
   "cell_type": "markdown",
   "metadata": {
    "deletable": false,
    "editable": false
   },
   "source": [
    "<a id=\"toc\"></a>\n",
    "## Table of Contents\n",
    "- [Certification Overview](#certOverview)\n",
    "\n",
    "\n",
    "- [Exercise 1: Connect and STK Object Model](#ex1)\n",
    "\n",
    "\n",
    "- [Exercise 2: Tour the STK Programming Interface Help](#ex2)\n",
    "    - [Questions for Exercise 1 and 2](#ex1&2Qs)\n",
    "    \n",
    "    \n",
    "- [Exercise 3: Create a STK Scenario With Python](#ex3)\n",
    "    - [Questions for Exercise 3](#ex3Qs)\n",
    "    \n",
    "    \n",
    "- [Exercise 4: Add STK Objects from an External File](#ex4)\n",
    "    - [Questions for Exercise 4](#ex4Qs)\n",
    "    \n",
    "    \n",
    "- [Exercise 5: Create and Modify a Satellite Constellation](#ex5)\n",
    "    - [Questions for Exercise 5](#ex5Qs)\n",
    "    \n",
    "    \n",
    "- [Exercise 6: Analyze the STK Scenario's Data](#ex6)\n",
    "    - [Questions for Exercise 6](#ex6Qs)\n",
    "    \n",
    "    \n",
    "- [Exercise 7: Analyze Access for an Aircraft's Flight](#ex7)\n",
    "    - [Questions for Exercise 7](#ex7Qs)\n",
    "\n",
    "\n",
    "- [Final Thoughts](#final)\n",
    "    - [Submit Your Test](#submit) \n",
    "\n"
   ]
  },
  {
   "cell_type": "markdown",
   "metadata": {
    "deletable": false,
    "editable": false
   },
   "source": [
    "<a id=\"certOverview\"></a>\n",
    "# <font style=\"color: rgb(190,138,67);\">CERTIFICATION OVERVIEW</font>\n",
    "***\n",
    "Welcome to Level 2: STK Master Integration Certification!  STK Integration allows users to automate STK with other applications and to extend its capabilities using various development environments (C#, C++, Visual Basic, Java, MATLAB, Perl, Python, VBScript, JScript). This set of exercises will show you how to integrate and automate STK with Python. Each exercise is organized around high-level tasks, where you will produce your own code and answer questions. In this certification, you will use Python to build an STK scenario and extract data for further analysis.\n",
    "\n",
    "Before you begin, this certification assumes you completed the STK Level 1 Certification and possess some familiarity with coding. **Make sure you downloaded the programs and materials necessary to complete the test from the [Access Resources Page](https://register.agi.com/training/on-demand/stk-master/integration/).** Review that page to see the list of required software and files.\n",
    "\n",
    "In this certification, you will answer sections of questions. **Keep track of your answers.** You will need to submit your answers through ClassMarker to complete the test. See *Submission Instructions* in the registration email for further details.\n",
    "\n",
    "The STK Integration Certification exercises will focus on ways to automate and integrate STK technology with other applications. This will be done by externally interfacing with STK through COM. Additional integration options include developing custom applications and extending STK using plugins. Through this certification, you will learn the basic skills required to master all types of integration.\n",
    "\n",
    "#### PROBLEM STATEMENT\n",
    "Many of the certification's exercises stem from a mock problem: you and your team have plans for a constellation of low-earth orbit satellites to provide near continuous global coverage. The constellation is being loosely modeled after the Iridium satellite constellation that provides worldwide L band voice and data coverage for satellite phones. The tentative plan is for a constellation of 32 satellites. \n",
    "\n",
    "Your teammate has been working on identifying suitable locations for ground facilities that will support the operation of this constellation and has provided you with a list of their top 20 candidate locations. You need to determine the quality of coverage at each of the candidate ground stations. To conduct this initial analysis, you should use Python to automate the process in STK. \n",
    "\n",
    "<br>\n",
    "<div style=\"text-align: right\">\n",
    "    <a href=\"#toc\">Back To Top</a>\n",
    "</div>"
   ]
  },
  {
   "cell_type": "markdown",
   "metadata": {
    "deletable": false,
    "editable": false
   },
   "source": [
    "<a id=\"ex1\"></a>\n",
    "## <font style=\"color: rgb(0,0,0);\">EXERCISE 1: </font> <font style=\"color: rgb(190,138,67);\">Connect and STK Object Model</font>\n",
    "\n",
    "***\n",
    "This exercise introduces the two major subsystems of the STK API: Connect and the STK Object Model. These two subsystems enable users to automate and extend STK's capabilities.\n",
    "\n",
    "### Connect\n",
    "\n",
    "The Connect module is a library of string commands for STK that are easy to read, understand, and build. Connect was originally designed to operate over a TCP/IP socket. But, Connect works with STK through the COM interface as well. \n",
    "\n",
    "Connect communicates with STK and 3D Graphics so you can visualize events in real-time. For instance, you can use Connect to feed real-time telemetry data from the launch and early orbit of a mission. As a scenario, the data can be viewed in 2D or 3D to visualize the mission and assist in understanding and resolving any issues that may arise.\n",
    "\n",
    "<img src=\"Resources/ConnectArch.png\" width=450></img>\n",
    "\n",
    "#### Executing Connect Commands\n",
    "To communicate with STK using Connect commands from an external application or an HTML page, you can use:\n",
    "\n",
    "- A TCP/IP connection to send Connect commands over a specified port. The default port for this connection is 5001, but you can change it within STK by selecting *Edit &#8594; Preferences* and navigating to the Connect page.\n",
    "- The COM interface to STK to send Connect commands directly to STK without communicating through a port.\n",
    "\n",
    "#### Example Connect Commands:\n",
    "\n",
    "To open a new scenario named See_DC:\n",
    "\n",
    "`New / Scenario See_DC`   \n",
    "\n",
    "To set the time period for the current scenario to start at midnight (local time) of the current day and to end 4 hours later:\n",
    "\n",
    "`SetAnalysisTimePeriod * \"Today\" \"+4 hours\"`\n",
    "\n",
    "To set the Sun constraint so that access to the DC facility is only valid while the facility is in full sunlight:\n",
    "\n",
    "`SetConstraint */Facility/DC Lighting DirectSun`\n",
    "\n",
    "#### Advantages of Connect\n",
    "- Connect commands are easy to read, understand, and build.\n",
    "- Connect commands make it very easy to set multiple parameters on one or multiple objects with a single command.\n",
    "- The TCP/IP interface enables STK to receive Connect commands from other applications on the same machine, or other machines.\n",
    "- Connect commands can be sent from applications in any programming language; all that is required is a socket connection to STK.\n",
    "\n",
    "#### Connect Limitations\n",
    "- When generating Reports and Graphs with Connect, you must use pre-defined Report and Graph styles installed on the target machine.\n",
    "- Any report data returned from a Connect command will come in the form of a string, which must be parsed.\n",
    "- The Connect library is weighted heavily towards setting object properties. It is not always possible to \"get\" current object properties with Connect.\n",
    "- Connect does not support auto completion or compile-time debugging. To determine whether a Connect command contains a syntax error, send the command to STK and check for an \"ACK\" (acknowledged) or \"NACK\" (not acknowledged) response.\n",
    "- While Connect offers a \"Verbose\" mode for debugging, specific error messages are not always available.\n",
    "\n",
    "### STK Object Model\n",
    "\n",
    "The STK Object Model is a collection of COM libraries containing types, interfaces, events and classes. These aspects let you design custom solutions using STK and the STK Engine. The STK Engine is a user-friendly API that can extend the capabilities of STK for your needs. The STK Object Model is available for use with STK as well as custom-built STK Engine applications.\n",
    "\n",
    "The components in STK Object Model let developers:\n",
    "- Control and automate STK objects \n",
    "- Manage the lifetime of STK objects\n",
    "- Access Data Provider Tools\n",
    "- Perform access and coverage computations\n",
    "- Respond to events generated by STK.\n",
    "\n",
    "The STK Object Model is built on Microsoft Component Object Model (COM) technology and can be used in environments supporting standard COM automation. Available environments include .NET(Visual Basic, C#, etc.), Java, C++, PowerPoint, Excel, Access, and scripting languages supporting COM late binding.\n",
    "\n",
    "#### The Component Object Model (COM)\n",
    "The Microsoft Component Object Model (COM) is a platform-independent, distributed, object-oriented system for creating binary software components that can interact.\n",
    "\n",
    "COM is not an object-oriented language but a standard. When working with COM, you have to fill in the language, structure, and implementation details. Rather, COM specifies an object model and programming requirements that enable COM objects (also called COM components, or sometimes simply objects) to interact with other objects.\n",
    "\n",
    "COM defines a **COM object** with a set of data and related functions. You use the set of related functions to access the COM object's data. \n",
    "\n",
    "These sets of functions are called **interfaces**. The individual functions of an interface are called **methods**. COM uses **pointers** to gain access to the methods of an interface. \n",
    "\n",
    "For more information about COM checkout the full write up in [Microsoft's Documentation.](https://docs.microsoft.com/en-us/windows/win32/com/the-component-object-model)\n",
    "\n",
    "\n",
    "#### The AgStkObjectRoot Object\n",
    "The `AgStkObjectRoot` object resides at the apex of the STK Object Model. The `AgStkObjectRoot` object and the associated `IAgSTKObjectRoot` interface provide the methods and properties to load scenarios, create new ones and access the Object Model Unit preferences. From the `AgStkObjectRoot` object, users can access all other objects and collections exposed by the STK Object Model.\n",
    "\n",
    "#### Example of STK Object Model Usage\n",
    "```python\n",
    "# Create a new Scenario\n",
    "# IAgStkObjectRoot root: STK Object Model Root\n",
    "root.NewScenario('Example_Scenario')\n",
    "\n",
    "# Create a facility (on the current scenario central body)\n",
    "# IAgStkObjectRoot root: STK Object Model Root\n",
    "facility = root.CurrentScenario.Children.New(8, 'MyFacility')  # 8 = eFacility\n",
    "\n",
    "# Create a New Aircraft (on the current scenario central body)\n",
    "# IAgStkObjectRoot root: STK Object Model root\n",
    "aircraft = root.CurrentScenario.Children.New(1, 'MyAircraft')  # 1 = eAircraft\n",
    "```\n",
    "More [Python Code Snippets](https://help.agi.com/stkdevkit/index.htm#stkObjects/ObjModPythonCodeSamples.htm) are available in the STK Programming Interface Help System.\n",
    "\n",
    "Find the referenced enumeration values (`eFacility` and `eAircraft`) via the [AgESTKObjectType Enumeration](https://help.agi.com/stkdevkit/index.htm#DocX/STKObjects~Enumerations~AgESTKObjectType_EN.html%3FTocPath%3DLibrary%2520Reference%7CSTK%2520Object%2520Model%7CSTK%2520Objects%7CEnumerations%7C_____233) documentation.\n",
    "\n",
    "#### Advantages of the STK Object Model\n",
    "- The Object Model supports auto completion (i.e., IntelliSense, Javadoc) and compile-time debugging.\n",
    "- The Object Model is not dependent on report styles. Rather, data values are pulled directly from the [STK Data Providers](https://help.agi.com/stkdevkit/index.htm#../Subsystems/dataProviders/Content/dpIntro.htm%3FTocPath%3DLibrary%2520Reference%7CData%2520Providers%2520Reference%7C_____0).\n",
    "- Data values returned from STK are returned as objects of an appropriate form, eliminating unnecessary string parsing. For instance, a series of data over time is returned as an array of values.\n",
    "- The Object Model generally offers parity between property setters and getters.\n",
    "\n",
    "#### STK Object Model Limitations\n",
    "- Becoming familiar with the Object Model involves a much steeper learning curve than Connect, particularly for non-programmers.\n",
    "- The Object Model, being COM technology, is limited to communication between applications on the same machine.\n",
    "\n",
    "### Choosing the Right Technology\n",
    "\n",
    "The choice of Connect or STK Object Model should be driven by the requirements of the application and the needs of the developer. It is important to note, however, that this need not be an exclusive choice. Connect commands can be used in a COM application, side-by-side with STK Object Model code.\n",
    "\n",
    "<br>\n",
    "<div style=\"text-align: right\">\n",
    "    <a href=\"#toc\">Back To Top</a>\n",
    "</div>"
   ]
  },
  {
   "cell_type": "markdown",
   "metadata": {
    "deletable": false,
    "editable": false
   },
   "source": [
    "<a id=\"ex2\"></a>\n",
    "## <font style=\"color: rgb(0,0,0);\">EXERCISE 2: </font> <font style=\"color: rgb(190,138,67);\">Tour the STK Programming Interface Help </font>\n",
    "***\n",
    "\n",
    "Before attempting to code anything, take a moment to familiarize yourself with the **STK Programming Interface Help** system. Within the help system you will find a wealth of information including integration tutorials, code snippets, decision trees, and library references.\n",
    "\n",
    "You can access this in several different ways including via AGI's website and the associated online [STK Programming Help](https://help.agi.com/stkdevkit/index.htm) page.  You can also use the menu bar in STK by selecting *Help &#8594; Programming Interface Help*, or launch the help via the windows Start Menu by selecting *Start &#8594; All Programs &#8594; STK 12 &#8594; STK 12 - Programming Interface Help*\n",
    "\n",
    "The help system tree looks like this:\n",
    "\n",
    "<img src=\"Resources/STKProgrammingHelp.png\" width=400></img>\n",
    "\n",
    "Within the **Using Core Libraries** directory you will find additional information on using the STK Object Model and Connect.\n",
    "\n",
    "<img src=\"Resources/STKProgrammingHelpUsingCoreLibs.png\" width=400></img>\n",
    "\n",
    "In the **Connect** section listed under **Using Core Libraries** you will find useful **Getting Started** information outlining the basics of Connect command and response formats.  The section also contains useful code snippets that demonstrate the syntax for various Connect commands.  Here is an example of a code snippet showing how to create a new missile object:\n",
    "\n",
    "<img src=\"Resources/ConnectSnippetExample.png\"></img>\n",
    "\n",
    "#### <font style=\"color: rgb(91,155,213);\">Note</font>\n",
    ">This snippet utilizes STK Object Model to send the Connect command.  The raw Connect command is the string being passed to `root.ExecuteCommand()`.\n",
    "\n",
    "The **STK Object Model** section listed under **Using Core Libraries** contains useful code snippets in various programming languages.  It also contains information on the various COM libraries that make up the STK Object Model.  This information includes useful diagrams that help visualize how the STK Object Model is structured.  For example, this small excerpt from the STK Object diagrams which outlines a portion of the basic STK Object Model representation of a Place object:\n",
    "\n",
    "<img src=\"Resources/AgPlace.png\" width=600></img>\n",
    "\n",
    "The **Library Reference** area lists extensive coding resources. In that section, you can find documentation on the STK Object Model, Connect Command Library, Data Providers, and more.   \n",
    "\n",
    "The **Connect Command Library**, listed under Library Reference houses the documentation for all of the Connect commands. Here, you can search for commands alphabetically, by object, and by module.\n",
    "\n",
    "<img src=\"Resources/STKProgrammingHelpLibRefConnect.png\" width=400></img>\n",
    "\n",
    "The STK Object Model documentation is organized by the individual libraries. This means you can find a section for STK Objects, a section for STK Util, and so on. Within each section items are broken down further by their type.\n",
    "\n",
    "<img src=\"Resources/STKProgrammingHelpLibRefOM.png\" width=400></img>\n",
    "\n",
    "A quick way to find help on a given type is to use the Search tab of the Help system. For example, suppose you are interested in the `AgECoordinateSystem` enum. If you enter \"AgECoordinateSystem\" in the search field and click List Topics, a list of pages containing that term appears. The entry for the `AgECoordinateSystem` reference page will appear at the top. Select that entry to display a page defining the enum and listing its members.\n",
    "\n",
    "#### Real-World Context Information\n",
    "In addition to help on programming issues, the help explains the real-world context where you might use these applications. \n",
    "\n",
    "For example, the STK Object Model help page for the [SpinAxisConeAngle](https://help.agi.com/stkdevkit/index.htm#DocX/STKObjects~IAgSnPtSpinning~SpinAxisConeAngle.html?Highlight=SpinAxisConeAngle) property tells you basic information about SpinAxisConeAngle. The page explains `SpinAxisConeAngle`is writable, part of the Variant data type, and part of the `IAgSnPtSpinning` interface.\n",
    "\n",
    "In addition, the page tells you that the property represents \"the cone angle used in defining the spin axis; i.e., the angle between the spin axis and the sensor boresight.\" This additional information can explain whether to use the `SpinAxisConeAngle` property in your application. \n",
    "\n",
    "For more information related to the real-world context, you can find the help page for [Spinning Sensor Pointing](https://help.agi.com/stk/index.htm#stk/referenceFramesSensorPointing.htm%3FTocPath%3DHow%2520to%2520Use%2520STK%7CTechnical%2520Notes%7C_____4) in the STK Help System. The STK Help system can give more detailed information on the real-world context than the STK Programming Help, which focuses on programming.\n",
    "\n",
    "#### <font style=\"color: rgb(91,155,213);\">Try Finding AgStkObjectRoot Class</font>\n",
    "Try finding information on the `AgStkObjectRoot` class in the STK Programming Interface Help. \n",
    "1. Navigate to [STK Programming Interface Help](https://help.agi.com/stkdevkit/index.htm) \n",
    "2. Click *Library Reference &#8594; STK Object Model &#8594; STK Objects* \n",
    "3. Scroll down the alphabetical list until you find the entry entitled *AgStkObjectRoot*. \n",
    "4. Click *AgStkObjectRoot* to display detailed information and important links, including a link to the `IAgStkObjectRoot` interface. \n",
    "\n",
    "From there, you can access a listing of all the members (methods and properties) of the interface associated with the `AgStkObjectRoot` object. Similarly, you can find help for any other object or interface, as well as any method, property or enumeration.\n",
    "\n",
    "<br>\n",
    "<div style=\"text-align: right\">\n",
    "    <a href=\"#toc\">Back To Top</a>\n",
    "</div>"
   ]
  },
  {
   "cell_type": "markdown",
   "metadata": {
    "deletable": false,
    "editable": false
   },
   "source": [
    "<a id=\"ex1&2Qs\"></a>\n",
    "### <font style=\"color: rgb(91,155,213);\">Questions for Exercises 1 and 2</font>\n",
    "***\n",
    "1.  Comparing Connect and STK Object Model, all of the following are true EXCEPT:\n",
    "    1. Object Model is not dependent on report styles while Connect is limited to the pre-defined Report and Graph styles installed on the target machine.\n",
    "    2. Becoming familiar with the STK Object Model involves a much steeper learning curve than Connect, particularly for non-programmers.\n",
    "    3. STK Object Model supports compile time debugging, while Connect does not.\n",
    "    4. Both STK Object Model and Connect are limited to communication between applications on the same machine.\n",
    "\n",
    "\n",
    "2. True or False: Connect commands can be used in a COM application, side-by-side with Object Model code.\n",
    "    1. True\n",
    "    2. False\n",
    "\n",
    "\n",
    "3. Which of the following is <u>NOT</u> a method of the `IAgStkObjectRoot` interface?\n",
    "    1. ExecuteCommand\n",
    "    2. CreateNewScenario\n",
    "    3. CloseScenario\n",
    "    4. LoadVDF\n",
    "\n",
    "\n",
    "4.  In a Connect command, the Scenario path or name can also be represented by which wildcard character? \n",
    "    1. & (Ampersand)\n",
    "    2. @ (At Sign)\n",
    "    3. \\* (Asterisk)\n",
    "    4. \\# (Pound Sign)\n",
    "\n",
    "\n",
    "5.  Which Connect command will insert a new default satellite called MySatellite?\n",
    "    1. New / */Satellite MySatellite\n",
    "    2. Add / */Satellite MySatellite\n",
    "    3. Insert / */Satellite MySatellite\n",
    "    4. Insert New / */Satellite MySatellite\n",
    "    \n",
    "<br>\n",
    "<div style=\"text-align: right\">\n",
    "    <a href=\"#toc\">Back To Top</a>\n",
    "</div>"
   ]
  },
  {
   "cell_type": "markdown",
   "metadata": {
    "deletable": false,
    "editable": false
   },
   "source": [
    "<a id=\"ex3\"></a>\n",
    "##  <font style=\"color: rgb(0,0,0);\">EXERCISE 3: </font> <font style=\"color: rgb(190,138,67);\">Create a STK Scenario With Python</font>\n",
    "***\n",
    "With background information on the STK API and a general understanding of the help system, let's build a script to assist with the problem at hand. In this task you will import required modules, start STK, and create a new scenario.\n",
    "\n",
    "#### <font style=\"color: rgb(91,155,213);\">Note: In the Event of Errors</font>\n",
    ">While working through the remaining exercises, if errors are encountered follow this procedure:\n",
    ">1. Make note of the error.\n",
    "2. Close STK. Use Task Manager to verify STK is not running in the background. STK will appear in Task Manager as AgUiApplicaiton\n",
    "3. Restart the Jupyter kernel.  In the Menu Bar select *Kernel &#8594; Restart & Clear Output*.\n",
    "4. Make sure your version of Python, Jupyter, or STK do not conflict as mentioned on the [Access Resources Page](https://register.agi.com/training/on-demand/stk-master/integration/) for this certification and in this [FAQ](https://agiweb.secure.force.com/faqs/articles/HowTo/Troubleshooting-your-STK-and-Python-integration). \n",
    "5. Edit the code as required based on the error recieved.\n",
    "6. Rerun all completed code blocks from the beginning.\n",
    "\n",
    "#### Import Required Modules\n",
    "Import the required modules for the script by running the code below. Click the block of code to select it, then run the code with either the *Run* button at the top of the notebook, or with the keyboard shortcut *Shift + Enter.*\n",
    "\n",
    "Import [datetime](https://docs.python.org/3/library/datetime.html) which provides the tools needed to manipulate dates and times. Import [numpy](https://numpy.org/) gives the fundamental package for scientific computing with Python, and [os](https://docs.python.org/3/library/os.html) provides the means to interact with the operating system. Finally, and perhaps most importantly, import the *CreateObject* function from the [comtypes.client](https://pypi.org/project/comtypes/) package.  This function facilitates access to COM objects."
   ]
  },
  {
   "cell_type": "code",
   "execution_count": null,
   "metadata": {
    "deletable": false
   },
   "outputs": [],
   "source": [
    "%config IPCompleter.greedy=True  #Ensures intellisense in Jupyter is on\n",
    "\n",
    "#Import basic utilities\n",
    "import datetime as dt\n",
    "import numpy as np\n",
    "import os\n",
    "\n",
    "#Needed to interact with COM\n",
    "from comtypes.client import CreateObject"
   ]
  },
  {
   "cell_type": "markdown",
   "metadata": {
    "deletable": false,
    "editable": false
   },
   "source": [
    "#### <font style=\"color: rgb(91,155,213);\">Note: Comtypes vs. Win32com </font>\n",
    ">Comtypes is not the only choice for interacting with COM objects in Python.  The win32com library is another option.  Checkout this [FAQ](http://agiweb.force.com/faqs/articles/Keyword/Getting-Started-STK-COM-integration-using-Python?retURL=%2Ffaqs%2Fapex%2Ffaq&popup=true) for a brief discussion on the two approaches.\n",
    "\n",
    "#### Start STK\n",
    "Your next task is to start STK, which you will do with the `CreateObject` function you just imported.  According to the comtypes [documentation](https://pythonhosted.org/comtypes/), this function will create a COM object and return an interface pointer to it.\n",
    "\n",
    "First, **make sure that STK is NOT running**.  Then, run the block of code below. When the code finishes STK12 will be running in the background, so do not be alarmed if it appears nothing has happened.\n",
    "\n",
    "Running this block several times could launch several instances of STK placing them in the background. There will be no visual indication that STK has started multiple times. \n",
    "\n",
    "If you run the block once and you do not recieve errors, then proceed with the **Verify Success** section. If you recieve errors, review the **Troubleshooting Errors** section and adhere to the *Note: In the Event of Errors* at the begining of this exercise. "
   ]
  },
  {
   "cell_type": "code",
   "execution_count": null,
   "metadata": {
    "deletable": false
   },
   "outputs": [],
   "source": [
    "#Start STK12 Application\n",
    "uiApp = CreateObject(\"STK12.Application\")"
   ]
  },
  {
   "cell_type": "markdown",
   "metadata": {
    "deletable": false,
    "editable": false
   },
   "source": [
    "#### <font style=\"color: rgb(91,155,213);\">Note</font>\n",
    ">To connect to an instance of STK that is already running, use the `GetActiveObject` function from the comtypes.client package.\n",
    ">```python\n",
    "># Connect to running instance of STK\n",
    "from comtypes.client import GetActiveObject\n",
    "uiApp = GetActiveObject(\"STK12.Application\")\n",
    ">```\n",
    "\n",
    "#### Troubleshooting Errors\n",
    "This has been the first real test of the development environment and an error may have been raised.  There are a few items to check if you did receive an error with this block.  If you did not receive any errors skip to **Verify Success** below.\n",
    "\n",
    "For troubleshooting information read through this comprehensive FAQ: [Troubleshooting Your STK And Python Integration](https://agiweb.secure.force.com/faqs/articles/HowTo/Troubleshooting-your-STK-and-Python-integration).\n",
    "\n",
    "If you continue to have issues, you can contact [AGI Support](mailto:support@agi.com) for further assistance.\n",
    "\n",
    "#### Verify Success\n",
    "After the above block executes without error, verify STK 12 is running with Task Manager.  You should see AgUiApplication listed under background processes.\n",
    "\n",
    "<img src=\"Resources/TaskManagerBackground.png\"></img>\n",
    "<br>\n",
    "<br>\n",
    "You can use the Python built-in function `help()` to investigate what the `CreateObject` function returned."
   ]
  },
  {
   "cell_type": "code",
   "execution_count": null,
   "metadata": {
    "deletable": false
   },
   "outputs": [],
   "source": [
    "help(uiApp)"
   ]
  },
  {
   "cell_type": "markdown",
   "metadata": {
    "deletable": false,
    "editable": false
   },
   "source": [
    "The `help()` function returns a lot of useful information.  The first line lets you know that `uiApp` is a pointer to the `IAgUiApplication` interface.  You can learn more about this interface by checking the STK Programming Help page covering [IAgUiApplication.](https://help.agi.com/stkdevkit/index.htm#DocX/AgUiApplicationLib~IAgUiApplication.html%3FTocPath%3DLibrary%2520Reference%7CApplication%2520Object%2520Model%7CSTK%2520UI%2520Application%7CInterfaces%7CIAgUiApplication%2520Interface%7C_____0)  \n",
    "\n",
    "Scroll through the output above to examine the properties and methods of the `IAgUiApplication` interface.  You should notice a striking similarity between what is listed here and what you find within the help system.\n",
    "\n",
    "The `IAgUiApplication` interface provides access and control over top level application details such as window state, placement, and size.  \n",
    "\n",
    "In the next block, use `uiApp`, a pointer to the `IAgUiAppliction` interface, to make the STK application window visible and user controlled.  \n",
    "\n",
    "From this point forward, you should check every code block for the `##########ACTION IS REQUIRED IN THIS BLOCK##########` comment at the top.  If you see this comment you need to complete the listed tasks before running the block."
   ]
  },
  {
   "cell_type": "code",
   "execution_count": null,
   "metadata": {
    "deletable": false
   },
   "outputs": [],
   "source": [
    "########## ACTION IS REQUIRED IN THIS BLOCK ##########\n",
    "########## 1 ACTION REQUIRED ##########\n",
    "\n",
    "uiApp.Visible = True\n",
    "\n",
    "#Set the application so that it is user controlled.\n",
    "########## ACTION 1 : Replace the ? with the correct property of the IAgUiApplication interface ##########\n",
    "uiApp.? = True"
   ]
  },
  {
   "cell_type": "markdown",
   "metadata": {
    "deletable": false,
    "editable": false
   },
   "source": [
    "The STK application should now be visible, even if the window is not currently in the foreground and should also have moved out of the Background processes in the Task Manger.\n",
    "\n",
    "<img src=\"Resources/TaskManagerApp.png\"></img>\n",
    "\n",
    "#### Get a Reference the STK Object Model Root\n",
    "Recall that the `AgStkObjectRoot` object is at the apex of the STK Object Model.  The associated `IAgStkObjectRoot` interface will provide the methods and properties to load or create new scenarios and access the Object Model Unit preferences.  Through `uiApp` you have a pointer to the `IAgUiApplication` interface.  How will you obtain a pointer to the `IAgStkObjectRoot` interface?  According to `IAgUiApplication` documentation, the `Personality2` property returns a new instance of the root object of the STK Object Model.\n",
    "\n",
    "Run the next block to get a pointer to `IAgStkObjectRoot`."
   ]
  },
  {
   "cell_type": "code",
   "execution_count": null,
   "metadata": {
    "deletable": false
   },
   "outputs": [],
   "source": [
    "#Get the STK Object Model Root\n",
    "stkRoot = uiApp.Personality2"
   ]
  },
  {
   "cell_type": "markdown",
   "metadata": {
    "deletable": false,
    "editable": false
   },
   "source": [
    "You can quickly verify the type of `root` with the Python built-in `type()`"
   ]
  },
  {
   "cell_type": "code",
   "execution_count": null,
   "metadata": {
    "deletable": false
   },
   "outputs": [],
   "source": [
    "type(stkRoot)"
   ]
  },
  {
   "cell_type": "markdown",
   "metadata": {
    "deletable": false,
    "editable": false
   },
   "source": [
    " #### COM Interfaces And COM Objects\n",
    "At this point it is important to highlight the difference between the *object* `AgStkObjectRoot` and the *interface* `IAgStkObjectRoot`.\n",
    "\n",
    "As mentioned before, a **COM object** holds data that you can only access through sets of related functions. These sets of functions are called **interfaces** and the individual functions are called **methods**. The only way to access an interface's method is through a **pointer** to the interface. Within the STK object model, the prefix **Ag** is used for objects and **IAg** for interfaces.\n",
    "\n",
    "A single COM interface does not necessarily hold all the functions associated with a the COM object. For example, the `IAgStkObjectRoot`interface contains *most* of the functions for the `AgStkObjectRoot` object, but not all the functions. Consulting the documentation will confirm this fact, as `AgStkObjectRoot` implements several other interfaces, each with their own methods. \n",
    "\n",
    "Finally, `root.Personality2` returns a pointer to the `IAgStkObjectRoot` interface and not the `AgStkObjectRoot` object itself. This is precisely by design and in alignment with the structure described by COM. \n",
    "\n",
    "The following diagram can help with visualizing the structure of the AgStkObjectRoot object:\n",
    "\n",
    "<img src=\"Resources/AgStkObjectRootStructFull.png\"></img>\n",
    "\n",
    "####  Import the STK Objects and STK Util Libraries\n",
    "When you execute `stkRoot=app.Personality2` for the first time on your computer, you generate the STKObjects, STKUtil libraries, and several other comtypes libraries. You can find all the comptypes libraries you generated in the comtypes gen folder. After running `stkRoot=app.Personality2` at least once on your computer, you can run the following two lines of code at any time to import the newly generated STKObject and STKUtil libraries."
   ]
  },
  {
   "cell_type": "code",
   "execution_count": null,
   "metadata": {
    "deletable": false
   },
   "outputs": [],
   "source": [
    "#Import the STKObjects and STKUtil COM libraries\n",
    "from comtypes.gen import STKObjects\n",
    "from comtypes.gen import STKUtil"
   ]
  },
  {
   "cell_type": "markdown",
   "metadata": {
    "deletable": false,
    "editable": false
   },
   "source": [
    "When you executed `uiApp = CreateObject(\"STK12.Application\")`, you placed other libraries into the comtypes gen folder as well.  You should know where all the Python generated STK Object Model libraries are stored, because occasionally you may need to remove them manually.  For example, if you upgrade from STK 11 to STK 12, you would have to remove these generated libraries.  \n",
    "\n",
    "To locate the directory where the comptypes are stored, run the next block."
   ]
  },
  {
   "cell_type": "code",
   "execution_count": null,
   "metadata": {
    "deletable": false
   },
   "outputs": [],
   "source": [
    "from comtypes.client import gen_dir\n",
    "print(gen_dir)\n",
    "os.listdir(gen_dir)"
   ]
  },
  {
   "cell_type": "markdown",
   "metadata": {
    "deletable": false,
    "editable": false
   },
   "source": [
    "#### <font style=\"color: rgb(91,155,213);\">Note</font>\n",
    ">This is Python specific and does not impact where/how COM libraries are stored for other programing languages you may use.\n",
    "\n",
    "#### Create a New STK Scenario\n",
    "The next task is to create a scenario with the `NewScenario` method of the `IAgStkObjectRoot` interface.  According to the documentation, the `NewScenario` method expects a string representing the name of the scenario, but does not return anything.\n",
    "\n",
    "One property of the `IAgStkObjectRoot` interface returns the current scenario object or null if no scenario loads. After creating a scenario with the `NewScenario` method, you can use this property to obtain a reference to the new scenario.  Looking at the documentation, determine which property returns the current scenario and complete the code below. Then, run the block to create a new scenario called \"IntegrationCertification\"."
   ]
  },
  {
   "cell_type": "code",
   "execution_count": null,
   "metadata": {
    "deletable": false
   },
   "outputs": [],
   "source": [
    "########## ACTION IS REQUIRED IN THIS BLOCK ##########\n",
    "########## 1 ACTION REQUIRED ##########\n",
    "\n",
    "stkRoot.NewScenario(\"IntegrationCertification\")\n",
    "\n",
    "#Get a reference to the scenario object (null if no scenario has been loaded)\n",
    "########## ACTION 1 : Replace the ? with the correct property of IAgStkObjectRoot interface ##########\n",
    "scenario = stkRoot.?"
   ]
  },
  {
   "cell_type": "markdown",
   "metadata": {
    "deletable": false,
    "editable": false
   },
   "source": [
    "Determine the type of `scenario`"
   ]
  },
  {
   "cell_type": "code",
   "execution_count": null,
   "metadata": {
    "deletable": false
   },
   "outputs": [],
   "source": [
    "type(scenario)"
   ]
  },
  {
   "cell_type": "markdown",
   "metadata": {
    "deletable": false,
    "editable": false
   },
   "source": [
    "`IAgStkObject` is a generic interface for all objects in STK.  It encapsulates useful properties and methods common to all STK objects and will let you navigate the hierarchy of objects within the scenario.  The `CurrentScenario` property provides a pointer to the `IAgStkObject` interface.  The documentation page for the `CurrentScenario` property states, \"Cast the returned object to IAgScenario to access scenario methods and properties.\" This \"casting\" is done with the `QueryInterface()` method described later. \n",
    "\n",
    "Take a look at this basic diagram of the `AgScenario` object:\n",
    "\n",
    "<img src=\"Resources/AgScenarioStruct.png\"></img>\n",
    "\n",
    "The `AgScenario` object implements three different interfaces.  In the script, `scenario` is a pointer to the `IAgStkObject` interface. But, you need the pointer to the `IAgScenario` interface because that interface provides access to scenario properties.  \n",
    "\n",
    "Investigating `scenario` with the Python built-in `dir()` lists out the available properties and methods of `scenario`. Unfortunately, you cannot access the `IAgScenario` interface methods and properties through the pointer to `IAgStkObject`.  "
   ]
  },
  {
   "cell_type": "code",
   "execution_count": null,
   "metadata": {
    "deletable": false
   },
   "outputs": [],
   "source": [
    "dir(scenario)"
   ]
  },
  {
   "cell_type": "markdown",
   "metadata": {
    "deletable": false,
    "editable": false
   },
   "source": [
    "#### The QueryInterface() Method\n",
    "Fortunately, one interface can give you pointers for the other interfaces within the same object. This means you can obtain a pointer to `IAgScenario` from the pointer to `IAgStkObject`.\n",
    "\n",
    "The `QueryInterface()` method returns a pointer to the desired interface. If the inteface is not implemented  then the `QueryInterface()` method raises an exception.\n",
    "\n",
    "Every COM interface implements the `QueryInterface()` method, which enables you to find other interfaces implemented by the same object.  For example, `scenario.QueryInterface(STKObjects.IAgScenario)` will return the pointer to the `IAgScenario` interface because `scenario` is a pointer to the `IAgStkObject` interface implemented by the `AgScenario` object, which also implments the `IAgScenario` interface.\n",
    "\n",
    "#### Set scenario time\n",
    "\n",
    "In order to adjust the scenario's start and stop time \"cast\" `scenario` to the `IAgScenario` interface by using `QueryInterface()`.  \n",
    "\n",
    "`root.Rewind()` is used to reset the scenario to the newly established start time."
   ]
  },
  {
   "cell_type": "code",
   "execution_count": null,
   "metadata": {
    "deletable": false
   },
   "outputs": [],
   "source": [
    "########## ACTION IS REQUIRED IN THIS BLOCK ##########\n",
    "########## 1 ACTION REQUIRED ##########\n",
    "\n",
    "#Get the IAgScenario interface\n",
    "scenario2 = scenario.QueryInterface(STKObjects.IAgScenario)\n",
    "\n",
    "scenario2.StartTime = \"1 Jun 2016 15:00:00.000\"\n",
    "\n",
    "########## ACTION 1 : Set the scenario's analysis time period stop time to 2 Jun 2016 15:00:00.000 ##########\n",
    "scenario2.? = \"\"\n",
    "\n",
    "#Reset STK to the new start time\n",
    "stkRoot.Rewind() "
   ]
  },
  {
   "cell_type": "markdown",
   "metadata": {
    "deletable": false,
    "editable": false
   },
   "source": [
    "<br>\n",
    "<div style=\"text-align: right\">\n",
    "    <a href=\"#toc\">Back To Top</a>\n",
    "</div>"
   ]
  },
  {
   "cell_type": "markdown",
   "metadata": {
    "deletable": false,
    "editable": false
   },
   "source": [
    "<a id=\"ex3Qs\"></a>\n",
    "### <font style=\"color: rgb(91,155,213);\">Questions for Exercise 3</font>\n",
    "***\n",
    "6. WindowState is a read-write property of the IAgUiApplication interface. Which of the following is not a valid window state?\n",
    "    1. eWindowStateMaximized\n",
    "    2. eWindowStateFullScreen\n",
    "    3. eWindowStateMinimized\n",
    "    4. eWindowStateNormal\n",
    "\n",
    "\n",
    "7. What are the required inputs for the LoadVDF() method of the IAgStkObjectRoot interface?\n",
    "    1. Path and Password\n",
    "    2. Path and Filename\n",
    "    3. Path and Empty String\n",
    "    4. A or C\n",
    "\n",
    "\n",
    "8. Which is a generic interface for all objects in STK?\n",
    "    1. IAgScenario\n",
    "    2. IAgUiApplication\n",
    "    3. IAgDefaultInterface\n",
    "    4. IAgStkObject\n",
    "\n",
    "\n",
    "9. Which is <u>NOT</u> an observed convention in the naming of classes, interfaces and other types in the STK Object Model?\n",
    "    1. Interfaces are prefixed with IAg.\n",
    "    2. Application level classes are prefixed with STK.\n",
    "    3. Enumerations are prefixed with AgE.\n",
    "    4. Classes are prefixed with Ag (standing for AGI).\n",
    "\n",
    "\n",
    "10. True or False: Every COM interface implements the QueryInterface() method?\n",
    "    1. True\n",
    "    2. False\n",
    "\n",
    "<br>\n",
    "<div style=\"text-align: right\">\n",
    "    <a href=\"#toc\">Back To Top</a>\n",
    "</div>"
   ]
  },
  {
   "cell_type": "markdown",
   "metadata": {
    "deletable": false,
    "editable": false
   },
   "source": [
    "<a id=\"ex4\"></a>\n",
    "##  <font style=\"color: rgb(0,0,0);\">EXERCISE 4: </font> <font style=\"color: rgb(190,138,67);\">Add STK Objects from an External File</font>\n",
    "***\n",
    "For this task, you will use a file containing information about potential ground facilities to quickly insert Facility objects into your STK Scenario.  \n",
    "\n",
    "Ensure the provided `Facilities.txt` file is located in the same folder as this notebook.  The file is a simple text file with each line containing the facility name and location.\n",
    "#### Insert Facilities with Connect\n",
    "Use Connect commands to insert all the facilities from `Facilities.txt` into STK. You can send these Connect commands with the `ExecuteCommand` method, which is part of the `IAgStkObjectRoot` interface.  The [Connect Command Listings](https://help.agi.com/stkdevkit/index.htm#../Subsystems/connectCmds/Content/commandListings.htm%3FTocPath%3DLibrary%2520Reference%7CConnect%2520Command%2520Library%7C_____0) may be useful when completing this task.  The help page covering [Connect Command Syntax Elements](https://help.agi.com/stkdevkit/index.htm#../Subsystems/connectCmds/Content/usingcon-10.htm%3FTocPath%3DLibrary%2520Reference%7CConnect%2520Command%2520Library%7C_____1) is also a useful resource when constructing Connect commands.\n",
    "\n",
    "The next block of code will open `Facilities.txt` and read the file line by line.  When run, the block of code parses each line of `Facilities.txt` into the list `facilityData`. That list contains three string elements, which are defined as:\n",
    "\n",
    "1. `facilityData[0]` is the facility name \n",
    "2. `facilityData[1]` is the longitude in degrees\n",
    "3. `facilityData[2]` is the latitude in degrees.  \n",
    "\n",
    "The first Connect command in the code block below inserts a Facility object into STK.  For details on the `New` Connect Command, check the Library Reference page for [New](https://help.agi.com/stkdevkit/index.htm#../Subsystems/connectCmds/Content/cmd_New.htm)\n",
    "\n",
    "```python\n",
    "insertNewFacCmd = f\"New / */Facility {facilityData[0]}\"\n",
    "```\n",
    "\n",
    "The next step is to set the position of the new Facility.  To find a list of Connect commands that are specific to a Facility object, use the **Library Reference** section of the **STK Programming Interface Help** system.  Select *Library Reference* &#8594; *Connect Command Listings &#8594; Listing By Object &#8594; Facility*.  On this page, scroll through the list until you find a command that will allow you to set the position of a Facility object.  (The SetPosition command looks promising):\n",
    "\n",
    "<img src=\"Resources/SetPositionListing.png\"></img>\n",
    "\n",
    "To begin building the command start by looking at the command syntax.\n",
    "\n",
    "<img src=\"Resources/SetPositionSyntax.png\" align=\"left\" style=\"float: none; margin: 0 15px 0 0;\" width=\"400\"></img>\n",
    "\n",
    "\n",
    "\n",
    "The [Connect Command Syntax Elements](https://help.agi.com/stkdevkit/index.htm#../Subsystems/connectCmds/Content/usingcon-10.htm%3FTocPath%3DLibrary%2520Reference%7CConnect%2520Command%2520Library%7C_____1) page in the help system provides the general rules needed to interpret command syntax.  You can copy and paste the raw command syntax to build commands and then replace each part individually.\n",
    "\n",
    "Demonstrating this technique and building up the Python string for the SetPosition command start with the raw syntax:\n",
    "\n",
    "```python\n",
    "\"SetPosition <ObjectPath> [{Type}] {CoordType} <Parameters>\"\n",
    "```\n",
    "\n",
    "&lt;Object Path> is the path to the object instance in the current Scenario.  Angle brackets indicate required arguments of the command, so this value must be provided.  You can check the Syntax Elements page for a description on how to specify object paths.\n",
    "\n",
    "```python\n",
    "\"SetPosition */Facility/FacilityName [{Type}] {CoordType} <Parameters>\"\n",
    "```\n",
    "Items is square brackets are optional. Based on the description of the Type argument given on the help page it does not need to be specified in this case.\n",
    "\n",
    "```python\n",
    "\"SetPosition */Facility/FacilityName {CoordType} <Parameters>\"\n",
    "```\n",
    "\n",
    "Values surrounded by curly brackets indicate a choice between any number of available parameters.  There is a table of options for CoordType listed. In this case, Geodetic is the desired option.\n",
    "\n",
    "```python\n",
    "\"SetPosition */Facility/FacilityName Geodetic <Lat> <Lon> {<Altitude> | Terrain} [MSL]\"\n",
    "```\n",
    "Add in the latitude and longitude values.\n",
    "\n",
    "```python\n",
    "\"SetPosition */Facility/FacilityName Geodetic 0.0 0.0 {<Altitude> | Terrain} [MSL]\"\n",
    "```\n",
    "Bars are used between options to indicate OR, so the altitude can either be specified directly or you can leverage the Terrain option. The Terrain option will use the altitude or radius from the scenario's terrain data. If terrain data is not available at the specified latitude and longitude, STK will set the &lt;Altitude> to 0.0.\n",
    "\n",
    "```python\n",
    "\"SetPosition */Facility/FacilityName Geodetic 0.0 0.0 Terrain [MSL]\"\n",
    "```\n",
    "The optional MSL argument at the end should not be included.  When included altitude will be reference to mean sea level.\n",
    "\n",
    "```python\n",
    "\"SetPosition */Facility/FacilityName Geodetic 0.0 0.0 Terrain\"\n",
    "```\n",
    "Finally, replace FacilityName and the 0.0 values with the data from the `Facilities.txt` file. Add the name, latitude, and longitude of each facility.\n",
    "\n",
    "```python\n",
    "f\"SetPosition */Facility/{facilityData[0]} Geodetic {facilityData[2]} {facilityData[1]} Terrain\"\n",
    "```\n",
    "\n",
    "You can copy and paste this command into the code block below where indicated.  That line should read:\n",
    "```python\n",
    "setPositionCmd = f\"SetPosition */Facility/{facilityData[0]} Geodetic {facilityData[2]} {facilityData[1]} Terrain\"\n",
    "```\n",
    "Using the same technique generate the command that will change the Facility marker and label color to cyan.  Start by consulting the list of [Connect Commands for Facilities](https://help.agi.com/stkdevkit/index.htm#../Subsystems/connectCmds/Content/list_fac.htm%3FTocPath%3DLibrary%2520Reference%7CConnect%2520Command%2520Library%7CListings%2520by%2520Object%7C_____9) and locate a Graphics command that can \"Set the color of a label, marker, ground track, swath or polygon of an object.\" Once you have constructed the command, add it to the block below."
   ]
  },
  {
   "cell_type": "code",
   "execution_count": null,
   "metadata": {
    "deletable": false
   },
   "outputs": [],
   "source": [
    "########## ACTION IS REQUIRED IN THIS BLOCK ##########\n",
    "########## 2 ACTIONS REQUIRED ##########\n",
    "\n",
    "with open(\"Facilities.txt\", \"r\") as facilityFile:\n",
    "    for line in facilityFile:\n",
    "        facilityData = line.strip().split(\",\")\n",
    "        \n",
    "        insertNewFacCmd = f\"New / */Facility {facilityData[0]}\"\n",
    "        stkRoot.ExecuteCommand(insertNewFacCmd)\n",
    "        \n",
    "########## ACTION 1 : Paste SetPosition Connect command from above on this line ##########\n",
    "        setPositionCmd = f\"\"\n",
    "        stkRoot.ExecuteCommand(setPositionCmd)\n",
    "        \n",
    "########### ACTION 2 : Replace the ? with the Connect command to set the Facility marker and label color to cyan ##########\n",
    "        setColorCmd = f\"?\"\n",
    "        stkRoot.ExecuteCommand(setColorCmd)\n",
    "        \n",
    "facilityFile.close()"
   ]
  },
  {
   "cell_type": "markdown",
   "metadata": {
    "deletable": false,
    "editable": false
   },
   "source": [
    "The `root.ExecuteCommand()` method will raise an exception if the command fails.  Unless the code shows an error, you should have 20 Facility objects inserted in the scenario, all the same color.  The 2D Graphics Window in STK should look something like:\n",
    "\n",
    "<img src=\"Resources/FacilitiesCheckpoint.png\"></img>\n",
    "\n",
    "<br>\n",
    "<div style=\"text-align: right\">\n",
    "    <a href=\"#toc\">Back To Top</a>\n",
    "</div>"
   ]
  },
  {
   "cell_type": "markdown",
   "metadata": {
    "deletable": false,
    "editable": false
   },
   "source": [
    "<a id=\"ex4Qs\"></a>\n",
    "### <font style=\"color: rgb(91,155,213);\">Questions for Exercise 4</font>\n",
    "***\n",
    "11. For the Graphics SetColor Connect command, if you don't specify an {Item}, the color is changed for which of the object's graphics.\n",
    "    1. Only the marker\n",
    "    2. Only the label\n",
    "    3. Marker and label\n",
    "    4. All of the object's graphics.\n",
    "\n",
    "\n",
    "12. True or False: The &lt;TruncObjectPath> is an &lt;ObjectPath> using the * wildcard in place of the scenario path.\n",
    "    1. True\n",
    "    2. False\n",
    "\n",
    "\n",
    "13. IAgExecCmdResult is the interface returned by the ExecuteCommand method. What property of IAgExecCmdResult indicates whether the object contains valid results?  \n",
    "    1. Status\n",
    "    2. IsSucceeded\n",
    "    3. ExitCode\n",
    "    4. ResultStatus\n",
    "\n",
    "\n",
    "14. It is possible to execute multiple Connect actions with the ExecuteMultipleCommands method.  The behavior of this method when encountering an exception varies depending on the setting of the Action parameter.  Which of the following is <u> NOT</u> a valid Action parameter?\n",
    "    1. eContinueOnError\n",
    "    2. eExceptionOnError\n",
    "    3. eStopOnError\n",
    "    4. eRetryOnError\n",
    "\n",
    "\n",
    "15. All of the following are true about using wildcards in an &lt;InstanceName> in a Connect &lt;ObjectPath> EXCEPT:\n",
    "    1. The wildcard should not be used with commands that write to a file.\n",
    "    2. The wildcard can only be used in the &lt;ObjectPath> for which the command is being sent.\n",
    "    3. The wildcard character is the asterisk.\n",
    "    4. The wildcard character can be used in any &lt;ObjectClass> name.\n",
    "\n",
    "<br>\n",
    "<div style=\"text-align: right\">\n",
    "    <a href=\"#toc\">Back To Top</a>\n",
    "</div>"
   ]
  },
  {
   "cell_type": "markdown",
   "metadata": {
    "deletable": false,
    "editable": false
   },
   "source": [
    "<a id =\"ex5\"></a>\n",
    "##  <font style=\"color: rgb(0,0,0);\">EXERCISE 5: </font> <font style=\"color: rgb(190,138,67);\">Create and Modify a Satellite Constellation</font>\n",
    "***\n",
    "In this exercise you will finish setting up the scenario.  First, you will insert a constellation of Satellites.  Next, you will attach a Sensor to each of the Satellites and add each to an STK Constellation object.  Then, you will create another Constellation object for all the Facilities.  Finally, you will create a Chain object to compute access between the Facilities and the constellation of Sensors.\n",
    "\n",
    "#### Satellite Constellation Details\n",
    "The constellation of satellites you need to model is loosely based on the Iridium constellation.  The details of your constellation:\n",
    "- 4 orbital planes with RAANs of 0, 45, 90, and 135 degrees respectively.\n",
    "- 8 satellites per orbital plane, evenly spaced.  If the true anomaly of satellites is in an even-numbered orbital plane, then assume the anomaly starts at 0 degrees at the scenario's initial time. For odd-numbered orbital planes, the true anomaly starts at half the spacing between satellites (22.5 degrees) so that satellites in neighboring planes are staggered.\n",
    "- All satellites are in LEO at an altitude of 781 km\n",
    "- All orbits have an eccentricity of 0 degrees, an argument of perigee of 0 degrees, and an inclination of 86.4 degrees\n",
    "\n",
    "#### Inserting a Single Satellite\n",
    "Inserting the constellation of satellites begins with developing the code to insert a single satellite from the constellation.  In this section, you will use STK Object Model to insert a satellite into STK and to edit some of the satellite's properties.  Later, you will use this code to insert the entire constellation of satellites through a pair of nested loops.\n",
    "\n",
    "With the STK Object Model, new objects are inserted into STK through the `Children` property of the parent object.  The `Children` property provides a pointer to `IAgStkObjectCollection` which exposes the `New` method.  The `New` method expects to be passed a member of the `AgESTKObjectType` enumeration as the first argument, and a string representing the instance name of the object as the second argument.  `New` returns a pointer to `IAgStkObject` which you will need to \"cast\" to the object-specific interface to gain access to the object-specific properties.  Therefore, you will insert a satellite into the scenario by adding a new child to the scenario object.  Then, to access the satellite specific methods and properties you will need to \"cast\" the result to obtain access to the `IAgSatellite` interface.\n",
    "\n",
    "Take a quick look at the help page for the [AgESTKObjectType Enumeration](https://help.agi.com/stkdevkit/index.htm#DocX/STKObjects~Enumerations~AgESTKObjectType_EN.html?Highlight=AgESTKObjectType).  Note, AgE indicates that this object is an enumeration, which is simply an object that provides a list of options.  Looking at this list, you can see that `eSatellite` is the member of the AgESTKObjectType enumeration that references the STK Satellite object and has a value of 18.  When providing the first argument to the `New` method, you can choose to either directly pass the value 18, or use the enumeration member which is accessible through the STKObjects library.\n",
    "\n",
    "In the next block, provide the argument to the `QueryInterface` method and then run the block to insert TestSatellite.\n"
   ]
  },
  {
   "cell_type": "code",
   "execution_count": null,
   "metadata": {
    "deletable": false
   },
   "outputs": [],
   "source": [
    "########## ACTION IS REQUIRED IN THIS BLOCK ##########\n",
    "########## 1 ACTION REQUIRED ##########\n",
    "\n",
    "satellite = scenario.Children.New(STKObjects.eSatellite, \"TestSatellite\")\n",
    "\n",
    "########## ACTION 1 : \"cast\" satellite to obtain a pointer to IAgSatellite ##########\n",
    "satellite2 = satellite.QueryInterface(?)"
   ]
  },
  {
   "cell_type": "markdown",
   "metadata": {
    "deletable": false,
    "editable": false
   },
   "source": [
    "When the block is finished, TestSatellite will appear in the STK Object Browser.  The orbit has not been propagated so you will not see anything in the 3D or 2D Graphics windows.\n",
    "\n",
    "When you create an object in STK, you can set a host of properties in the Properties Browser, such as: Basic, 2D Graphics, 3D Graphics, Constraints, etc. Similarly, you can configure a variety of properties when you create an object using the Object Model and acquire the corresponding interface.  \n",
    "\n",
    "Next, configure some basic 2D attributes for this satellite.  You can use the STK GUI as a guide in accomplishing this with the STK Object Model.  The list of changes to make:\n",
    "1. Change the color of the satellite to yellow.\n",
    "2. Set the line width.\n",
    "3. Disable inheriting certain properties from the scenario\n",
    "4. Disable display of ground tracks.\n",
    "\n",
    "If you were going to use the GUI in STK to make these changes, you would navigate to the following page in the satellite's Properties Browser.\n",
    "\n",
    "<img src=\"Resources/Sat2DAttributes.png\" width=\"600\"></img>\n",
    "\n",
    "To do the same thing in the STK Object Model, navigate the satellite object to find the correct interface(s) for the item(s) to change.  Note in this example, if you were using the GUI, you would first have to disable the option to Inherit from Scenario, before you could disable the option to show ground tracks.  This order should be preserved when developing the Object Model code as well.  \n",
    "\n",
    "The `IAgSatellite` interface exposes the `Graphics` property, which gives a pointer to the `IAgSaGraphics` interface.  The `IAgSaGraphics` interface exposes the `Attributes` property, which gives a pointer to the `IAgVeGfxAttributes` interface.  The `IAgVeGfxAttributes` interface is a base interface for vehicle 2D graphics attributes and does not expose any methods.  This might seem like a dead end, but remember that the `IAgVeGfxAttributes` interface is implemented by an object that may implement more than one interface, and the `IAgVeGfxAttributes` interface may not represent all of the methods the object supports.  \n",
    "\n",
    "Look at the documentation on `IAgVeGfxAttributes` and notice the list of classes that implement the interface.  Of the classes implemented, `AgVeGfxAttributesOrbit` is the one that represents the 2D graphics attributes of a satellite.  Checking the documentation on this object, the `IAgVeGfxAttributesBasic` and `IAgVeGfxAttributesOrbit` interfaces can make the desired changes to the satellite’s 2D Graphics Attributes.\n",
    "\n",
    "Make the necessary edits below to disable the inheritance of certain 2D graphics settings from the scenario level. Then, run the block to make changes to the satellites 2D Graphics Attributes.\n"
   ]
  },
  {
   "cell_type": "code",
   "execution_count": null,
   "metadata": {
    "deletable": false
   },
   "outputs": [],
   "source": [
    "########## ACTION IS REQUIRED IN THIS BLOCK ##########\n",
    "########## 1 ACTION REQUIRED ##########\n",
    "\n",
    "#Change some basic display attributes\n",
    "satelliteBasicGfxAttributes =  satellite2.Graphics.Attributes.QueryInterface(STKObjects.IAgVeGfxAttributesBasic)\n",
    "satelliteBasicGfxAttributes.Color = 65535 #Yellow\n",
    "satelliteBasicGfxAttributes.Line.Width = STKObjects.e2     \n",
    "\n",
    "########## ACTION 1 : Set inheritance of certain 2D graphics settings from the scenario level to false ##########\n",
    "satelliteBasicGfxAttributes.? = False\n",
    "\n",
    "satelliteBasicGfxAttributes.QueryInterface(STKObjects.IAgVeGfxAttributesOrbit).IsGroundTrackVisible = False"
   ]
  },
  {
   "cell_type": "markdown",
   "metadata": {
    "deletable": false,
    "editable": false
   },
   "source": [
    "The next task is to setup the orbit of the satellite.  If you were using the STK GUI you would generally use the Basic Orbit page of the satellite’s Properties to define the initial state, including time properties, propagator, orbital elements and coordinate system.  You can use the GUI as a guide for generating the code to setup TestSatellite.  Think about the clicks you would make, and the items you would edit to setup the satellite, then determine how to accomplish each click or edit with STK Object Model code.  \n",
    "\n",
    "To begin, use the `SetPropagatorType` method of the `IAgSatellite` interface to set the propagator type to the Two Body propagator.  You must pass one of the `AgEVePropagatorType` members to the `SetPropagatorType` method. From the [AgEVePropagatorType Enumeration](https://help.agi.com/stkdevkit/index.htm#DocX/STKObjects~IAgSatellite.html?Highlight=IAgSatellite) help page, you can see that the Two Body propagator is represented by the `ePropagatorTwoBody` member.\n",
    "\n",
    "Run the next block to set the propagator type to the Two Body Propagator."
   ]
  },
  {
   "cell_type": "code",
   "execution_count": null,
   "metadata": {
    "deletable": false
   },
   "outputs": [],
   "source": [
    "#Select Propagator\n",
    "satellite2.SetPropagatorType(STKObjects.ePropagatorTwoBody)"
   ]
  },
  {
   "cell_type": "markdown",
   "metadata": {
    "deletable": false,
    "editable": false
   },
   "source": [
    "Next you need to define the satellite's initial state with the following orbital elements:  semimajor axis, eccentricity, inclination, argument of perigee, RAAN, and true anomaly.  To accomplish this, you must build an initial state, assign it to the satellite, and finally propagate the orbit.\n",
    "\n",
    "You can gain access to the initial orbit state through the satellite's propagator object.  In the block below, get a pointer to the `IAgVePropagtorTwoBody` interface.  Then use that pointer to convert the obit state into the classical representation, and obtain a pointer to the `IAgOrbitStateClassical` interface."
   ]
  },
  {
   "cell_type": "code",
   "execution_count": null,
   "metadata": {
    "deletable": false
   },
   "outputs": [],
   "source": [
    "########## ACTION IS REQUIRED IN THIS BLOCK ##########\n",
    "########## 1 ACTION REQUIRED ##########\n",
    "\n",
    "########## ACTION 1 : Get the Two Body Propagator interface ##########\n",
    "twoBodyPropagator = satellite2.Propagator.QueryInterface(?)\n",
    "\n",
    "keplarian = twoBodyPropagator.InitialState.Representation.ConvertTo(STKUtil.eOrbitStateClassical).QueryInterface(STKObjects.IAgOrbitStateClassical)"
   ]
  },
  {
   "cell_type": "markdown",
   "metadata": {
    "deletable": false,
    "editable": false
   },
   "source": [
    "With the `IAgOrbitStateClassical` interface you will be able to set the values of the desired orbital elements.  Starting with semimajor axis and eccentricity, review the `SizeShapeType` and `SizeShape` properties on the [IAgOrbitStateClassical](https://help.agi.com/stkdevkit/index.htm#DocX/STKObjects~IAgOrbitStateClassical.html%3FTocPath%3DLibrary%2520Reference%7CSTK%2520Object%2520Model%7CSTK%2520Objects%7CInterfaces%7CIAgOrbitStateClassical%2520Interface%7C_____1) help page.  With the `SizeShapeType` property you can set which pair of elements to use to describe the general size and shape of the orbit.  You can consult the [AgEClassicalSizeShape Enumeration](https://help.agi.com/stkdevkit/index.htm#DocX/STKObjects~Enumerations~AgEClassicalSizeShape_EN.html?Highlight=%20AgEClassicalSizeShape) page and see that `eSizeShapeSemimajorAxis` is the desired choice.  Changing the value of the `SizeShapeType` property is equivalent to using the dropdown boxes in the GUI to select the desired orbital parameter.\n",
    "\n",
    "The `SizeShape` property only provides a pointer to the `IAgClassicalSizeShape` interface, which does not immediately provide access to the semimajor axis or eccentricity values.  To access those, you \"cast\" to the `IAgClassicalSizeShapeSemimajorAxis` interface provided by the `AgClassicalSizeShapeSemimajorAxis` object.  Through this interface, you can set both the `SemimajorAxis` and `Eccentricity` values.\n",
    "\n",
    "Make the required edits to the block below and then run the code to set the semimajor axis and eccentricity."
   ]
  },
  {
   "cell_type": "code",
   "execution_count": null,
   "metadata": {
    "deletable": false
   },
   "outputs": [],
   "source": [
    "########## ACTION IS REQUIRED IN THIS BLOCK ##########\n",
    "########## 1 ACTION REQUIRED ##########\n",
    "\n",
    "keplarian.SizeShapeType = STKObjects.eSizeShapeSemimajorAxis\n",
    "keplarian.SizeShape.QueryInterface(STKObjects.IAgClassicalSizeShapeSemimajorAxis).SemiMajorAxis = 7159\n",
    "\n",
    "########## ACTION 1 : Set eccentricity to 0 ##########\n",
    "keplarian.SizeShape.QueryInterface(?).Eccentricity = 0\n",
    "        "
   ]
  },
  {
   "cell_type": "markdown",
   "metadata": {
    "deletable": false,
    "editable": false
   },
   "source": [
    "The `Orientation` property is used to set the inclination, argument of perigee, and RAAN.  The `Orientation` property provides direct access to the inclination and argument of perigee values.  For the RAAN, much as in the case of the semimajor axis and eccentricity, you must first specify the `AscNodeType`, then provide the value for the `AscNode` through the approriate interface.\n",
    "\n",
    "Add the code to set the argument of perigee to 0 and then run the block to set inclination, argument of perigee, and RAAN."
   ]
  },
  {
   "cell_type": "code",
   "execution_count": null,
   "metadata": {
    "deletable": false
   },
   "outputs": [],
   "source": [
    "########## ACTION IS REQUIRED IN THIS BLOCK ##########\n",
    "########## 1 ACTION REQUIRED ##########\n",
    "\n",
    "keplarian.Orientation.Inclination = 86.4\n",
    "\n",
    "########## ACTION 1 : Set argument of perigee to 0 ##########\n",
    "keplarian.Orientation.? = 0\n",
    "\n",
    "\n",
    "keplarian.Orientation.AscNodeType = STKObjects.eAscNodeRAAN\n",
    "keplarian.Orientation.AscNode.QueryInterface(STKObjects.IAgOrientationAscNodeRAAN).Value = 45"
   ]
  },
  {
   "cell_type": "markdown",
   "metadata": {
    "deletable": false,
    "editable": false
   },
   "source": [
    "Run this next block to set the `LocationType` to use true anomaly to specify location, then set the desired value for true anomaly with the appropriate interface."
   ]
  },
  {
   "cell_type": "code",
   "execution_count": null,
   "metadata": {
    "deletable": false
   },
   "outputs": [],
   "source": [
    "keplarian.LocationType = STKObjects.eLocationTrueAnomaly\n",
    "keplarian.Location.QueryInterface(STKObjects.IAgClassicalLocationTrueAnomaly).Value = 45"
   ]
  },
  {
   "cell_type": "markdown",
   "metadata": {
    "deletable": false,
    "editable": false
   },
   "source": [
    "You have now specified the initial state of the satellite as desired.  To complete the process, assign the initial state, `keplarian`, to the satellite's propagator.  Finally, the satellite should be propagated through the orbit.  Run the block below to accomplish these steps."
   ]
  },
  {
   "cell_type": "code",
   "execution_count": null,
   "metadata": {
    "deletable": false
   },
   "outputs": [],
   "source": [
    "twoBodyPropagator.InitialState.Representation.Assign(keplarian)\n",
    "twoBodyPropagator.Propagate()"
   ]
  },
  {
   "cell_type": "markdown",
   "metadata": {
    "deletable": false,
    "editable": false
   },
   "source": [
    "At this point your 3D and 2D graphics windows should look something like:\n",
    "\n",
    "<img src=\"Resources/TestSatInserted.png\"></img>\n",
    "\n",
    "#### Insert a Satellite Constellation\n",
    "\n",
    "Now, remove TestSatellite from the scenario. Then using the code developed, insert the entire constellation of satellites by running the following block of code."
   ]
  },
  {
   "cell_type": "code",
   "execution_count": null,
   "metadata": {
    "deletable": false
   },
   "outputs": [],
   "source": [
    "#Remove the test Satellite\n",
    "satellite.Unload()\n",
    "\n",
    "#Insert the constellation of Satellites\n",
    "numOrbitPlanes = 4\n",
    "numSatsPerPlane = 8\n",
    "\n",
    "for orbitPlaneNum, RAAN in enumerate(range(0,180,180//numOrbitPlanes),1): #RAAN in degrees\n",
    "\n",
    "    for satNum, trueAnomaly in enumerate(range(0,360,360//numSatsPerPlane), 1): #trueAnomaly in degrees\n",
    "        \n",
    "        #Insert satellite\n",
    "        satellite = scenario.Children.New(STKObjects.eSatellite, f\"Sat{orbitPlaneNum}{satNum}\")\n",
    "        satellite2 = satellite.QueryInterface(STKObjects.IAgSatellite)\n",
    "        \n",
    "        #Change some basic display attributes\n",
    "        satelliteBasicGfxAttributes =  satellite2.Graphics.Attributes.QueryInterface(STKObjects.IAgVeGfxAttributesBasic)\n",
    "        satelliteBasicGfxAttributes.Color = 65535 #Yellow\n",
    "        satelliteBasicGfxAttributes.Line.Width = STKObjects.e2     \n",
    "        satelliteBasicGfxAttributes.Inherit = False\n",
    "        satelliteBasicGfxAttributes.QueryInterface(STKObjects.IAgVeGfxAttributesOrbit).IsGroundTrackVisible = False\n",
    "                \n",
    "        #Select Propagator\n",
    "        satellite2.SetPropagatorType(STKObjects.ePropagatorTwoBody)\n",
    "        \n",
    "        #Set initial state\n",
    "        twoBodyPropagator = satellite2.Propagator.QueryInterface(STKObjects.IAgVePropagatorTwoBody)\n",
    "        keplarian = twoBodyPropagator.InitialState.Representation.ConvertTo(STKUtil.eOrbitStateClassical).QueryInterface(STKObjects.IAgOrbitStateClassical)\n",
    "        \n",
    "        keplarian.SizeShapeType = STKObjects.eSizeShapeSemimajorAxis\n",
    "        keplarian.SizeShape.QueryInterface(STKObjects.IAgClassicalSizeShapeSemimajorAxis).SemiMajorAxis = 7159 #km\n",
    "        keplarian.SizeShape.QueryInterface(STKObjects.IAgClassicalSizeShapeSemimajorAxis).Eccentricity = 0\n",
    "\n",
    "        keplarian.Orientation.Inclination = 86.4 #degrees\n",
    "        keplarian.Orientation.ArgOfPerigee = 0 #degrees\n",
    "        keplarian.Orientation.AscNodeType = STKObjects.eAscNodeRAAN\n",
    "        keplarian.Orientation.AscNode.QueryInterface(STKObjects.IAgOrientationAscNodeRAAN).Value = RAAN  #degrees\n",
    "        \n",
    "        keplarian.LocationType = STKObjects.eLocationTrueAnomaly\n",
    "        keplarian.Location.QueryInterface(STKObjects.IAgClassicalLocationTrueAnomaly).Value = trueAnomaly + (360//numSatsPerPlane/2)*(orbitPlaneNum%2)  #Stagger true anomalies (degrees) for every other orbital plane       \n",
    "        \n",
    "        #Propagate\n",
    "        satellite2.Propagator.QueryInterface(STKObjects.IAgVePropagatorTwoBody).InitialState.Representation.Assign(keplarian)\n",
    "        satellite2.Propagator.QueryInterface(STKObjects.IAgVePropagatorTwoBody).Propagate()\n",
    "    \n"
   ]
  },
  {
   "cell_type": "markdown",
   "metadata": {
    "deletable": false,
    "editable": false
   },
   "source": [
    "At this point you can check your scenario, the 3D and 2D Graphics windows should look something like:\n",
    "\n",
    "<img src=\"Resources/SatsInserted.png\"></img>\n",
    "\n",
    "#### Attach Sensors to Satellites and Create Sensor Constellation\n",
    "The next task is to attach a sensor to each of the satellites.  Model each sensor as a Simple Conic sensor with a Cone Half Angle of 62.5 degrees.  You will also add each sensor to a Constellation object.\n",
    "\n",
    "You can quickly get a collection of all the satellites in the scenario, through the `Children` property of `scenario`.  As you saw before, the `Children` property provides a pointer to the `IAgStkObjectCollection` interface.  This interface implements the `GetElements`, which \"Returns a collection of objects of specified type.\"\n",
    "\n",
    "You can then iterate over each of the objects in the returned collection.  In this case you can now add a sensor as a child of each satellite.  To access the sensor object properties, obtain a pointer to the `IAgSensor` interface.  There are three properties of the `IAgSensor` interface you will use below.  `CommonTasks`, `Graphics`, and `VO`.  The `CommonTasks` property conviently provides an interface that exposes common tasks associated with setting up a sensor object.  `Graphics` and `VO`, as with other objects represent the 2D Graphics and 3D Graphics Properties of the Sensor object respectively.  Through these Properties you can make changes to the display of the sensor object.\n",
    "\n",
    "You assign each sensor to the constellation object through the `IAgConstellation` interface's `Objects` property"
   ]
  },
  {
   "cell_type": "code",
   "execution_count": null,
   "metadata": {
    "deletable": false
   },
   "outputs": [],
   "source": [
    "########## ACTION IS REQUIRED IN THIS BLOCK ##########\n",
    "########## 3 ACTIONS REQUIRED ##########\n",
    "\n",
    "########## ACTION 1 : Create a new Constellation Object ##########\n",
    "sensorConstellation = scenario.Children.New(?, \"SensorConstellation\")\n",
    "\n",
    "########## ACTION 2 : Get a pointer to the IAgConstellation interface ##########\n",
    "sensorConstellation2 = sensorConstellation.QueryInterface(?)\n",
    "\n",
    "#Loop over all satellites\n",
    "for satellite in scenario.Children.GetElements(STKObjects.eSatellite):\n",
    "        \n",
    "    #Attach sensors to the satellite\n",
    "    sensor = satellite.Children.New(STKObjects.eSensor,f\"Sensor{satellite.InstanceName[3:]}\")\n",
    "    \n",
    "########## ACTION 3 : Get a pointer to the IAgSensor interface ##########\n",
    "    sensor2 = sensor.QueryInterface(?)\n",
    "    \n",
    "    #Adjust Half Cone Angle\n",
    "    sensor2.CommonTasks.SetPatternSimpleConic(62.5, 2)\n",
    "\n",
    "    #Adjust the translucency of the sensor projections and the line style\n",
    "    sensor2.VO.PercentTranslucency = 75\n",
    "    sensor2.Graphics.LineStyle = STKUtil.eDotted\n",
    "    \n",
    "    #Add the sensor to the SensorConstellation\n",
    "    sensorConstellation2.Objects.Add(sensor.Path)\n"
   ]
  },
  {
   "cell_type": "markdown",
   "metadata": {
    "deletable": false,
    "editable": false
   },
   "source": [
    "And now with the sensors attached to the satellites you should have:\n",
    "\n",
    "<img src=\"Resources/SensorsInserted.png\"></img>\n",
    "\n",
    "#### Insert and Build Chain Objects\n",
    "Finally, create another Constellation object, and assign each facility to the constellation.  Then, create a single chain object, edit the Graphics properties, assign FacilityConstellation and SensorConstellation to the chain, and the compute access for the chain."
   ]
  },
  {
   "cell_type": "code",
   "execution_count": null,
   "metadata": {
    "deletable": false
   },
   "outputs": [],
   "source": [
    "#Create Facility Constellation\n",
    "facilityConstellation = scenario.Children.New(STKObjects.eConstellation, \"FacilityConstellation\")\n",
    "facilityConstellation2 = facilityConstellation.QueryInterface(STKObjects.IAgConstellation)\n",
    "\n",
    "#Loop over each facility\n",
    "for facility in scenario.Children.GetElements(STKObjects.eFacility):\n",
    "    facilityConstellation2.Objects.Add(facility.Path)\n",
    "\n",
    "#Create chain\n",
    "chain = scenario.Children.New(STKObjects.eChain, \"FacsToSensors\")\n",
    "chain2 = chain.QueryInterface(STKObjects.IAgChain)\n",
    "\n",
    "#Edit some chain graphics properties\n",
    "chain2.Graphics.Animation.Color = 65280 #Green\n",
    "chain2.Graphics.Animation.LineWidth = STKObjects.e3\n",
    "chain2.Graphics.Animation.IsHighlightVisible = False\n",
    "\n",
    "#Add objects to chain and compute access\n",
    "chain2.Objects.Add(facilityConstellation.Path)\n",
    "chain2.Objects.Add(sensorConstellation.Path)\n",
    "chain2.ComputeAccess()\n",
    "        \n"
   ]
  },
  {
   "cell_type": "markdown",
   "metadata": {
    "deletable": false,
    "editable": false
   },
   "source": [
    "You have completed the initail set up of the scenario.  At this point, the 3D and 2D graphics windows should closely resemeble this:\n",
    "\n",
    "<img src=\"Resources/ChainsInserted.png\"></img>\n",
    "\n",
    "<br>\n",
    "<div style=\"text-align: right\">\n",
    "    <a href=\"#toc\">Back To Top</a>\n",
    "</div>"
   ]
  },
  {
   "cell_type": "markdown",
   "metadata": {
    "deletable": false,
    "editable": false
   },
   "source": [
    "<a id=\"ex5Qs\"></a>\n",
    "### <font style=\"color: rgb(91,155,213);\">Questions for Exercise 5</font>\n",
    "***\n",
    "16. What property of IAgSatellite would you use to get the 3D Graphics properties of the satellite.\n",
    "    1. Graphics\n",
    "    2. VO\n",
    "    3. 3DGraphics\n",
    "    4. VeGfxAttributes\n",
    "\n",
    "\n",
    "17. Which of the following is not a valid member of the AgEVePropagatorType enumeration\n",
    "    1. ePropagatorHPOP\n",
    "    2. ePropagatorUserExternal\n",
    "    3. eAstrogator\n",
    "    4. ePropagatorJ4Perturbation\n",
    "\n",
    "\n",
    "18. The following methods are available from the IAgStkObjectCollection interface <u>EXCEPT</u>:\n",
    "    1. New\n",
    "    2. Remove\n",
    "    3. GetElements\n",
    "    4. Contains\n",
    "\n",
    "\n",
    "19. Which member of the AgEOrbitStateType enumeration represents the cartesian coordinate type?\n",
    "    1. eOrbitStateCartesian\n",
    "    2. eCartesian\n",
    "    3. eCartesianOrbit\n",
    "    4. eOrbitCartesian\n",
    "\n",
    "\n",
    "20. True or False: The Item property of the IAgStkObjectCollection returns the element in the collection given an index. If the index is an integer, then method returns the element in the collection at the given position. If the index is a string, then the method returns the element with the specified name.\n",
    "    1. True\n",
    "    2. False\n",
    "    \n",
    "<br>\n",
    "<div style=\"text-align: right\">\n",
    "    <a href=\"#toc\">Back To Top</a>\n",
    "</div>"
   ]
  },
  {
   "cell_type": "markdown",
   "metadata": {
    "deletable": false,
    "editable": false
   },
   "source": [
    "<a id=\"ex6\"></a>\n",
    "##  <font style=\"color: rgb(0,0,0);\">EXERCISE 6: </font> <font style=\"color: rgb(190,138,67);\">Analyze the STK Scenario's Data</font>\n",
    "With the scenario built, you need to extract the access data and perform a basic analysis.  \n",
    "\n",
    "You can find a wealth of information on all the available Data Providers that STK provides from the [Data Providers Reference](https://help.agi.com/stkdevkit/index.htm#../Subsystems/dataProviders/Content/dpIntro.htm%3FTocPath%3DLibrary%2520Reference%7CData%2520Providers%2520Reference%7C_____0). There are three types of data providers: Fixed Data, Time-varying Data, and Interval Data. Each will require a slightly different approach when accessed through the STK Object Model.\n",
    "\n",
    "Take a look at all the data providers available for [Chain](https://help.agi.com/stkdevkit/index.htm#../Subsystems/dataProviders/Content/html/Chain.htm) objects.  You can determine the access between each facility and the constellation of sensors through the Object Access data provider.\n",
    "\n",
    "Through the`DataProviders` property of the `IAgStkObject` interface, you can access the data providers available to the FacToSensors chain object. The `DataProviders` property will provide the `IAgDataProviderCollection` interface. From there you can get the Object Access data provider with the `Item` Property.  \n",
    "\n",
    "The `Item` property will provide access to an interface with more information about the data provider. As explained on the help page, that Object Access is an Interval data provider.  Therefore, you can \"cast\" directly to the `IAgDataPrvInterval` interface to compute the data with the `Exec` method of the interface.  For Interval data providers, the `Exec` method requires you to pass a start and stop time for the analysis.\n",
    "\n",
    "Run the block below after making the required edits.\n"
   ]
  },
  {
   "cell_type": "code",
   "execution_count": null,
   "metadata": {
    "deletable": false
   },
   "outputs": [],
   "source": [
    "########## ACTION IS REQUIRED IN THIS BLOCK ##########\n",
    "########## 1 ACTION REQUIRED ##########\n",
    "\n",
    "########## ACTION 1 : Replace ? with the scenario stop time ##########\n",
    "facilityAccess = chain.DataProviders.Item('Object Access').QueryInterface(STKObjects.IAgDataPrvInterval).Exec(scenario2.StartTime,?)"
   ]
  },
  {
   "cell_type": "markdown",
   "metadata": {
    "deletable": false,
    "editable": false
   },
   "source": [
    "The result of the above code block is that you have access to the `IAgDrResult` interface.  Through this interface, you will have access to the resulting data.\n",
    "\n",
    "For this data provider, the data is most conveniently accessible through the `Intervals` property.  The `Intervals` property will provide the `IAgDrIntervalCollection` interface.   Each object's access data will be contained within an element of the intervals collection. `IAgDrIntervalCollection` only exposes two Properties: `Count` and `Item`. `Count` returns the number of elements in the collection.  `Item` will return a given element of the collection.  In this case, you only need to grab the access for each of the facilities, which are the first 20 elements in the collection.  The next block confirms 52 elements in the collection (one for each facility and sensor).  Then, a quick check of the first row of data from the first two elements of the collection confirms that the facilities are first in the collection."
   ]
  },
  {
   "cell_type": "code",
   "execution_count": null,
   "metadata": {
    "deletable": false
   },
   "outputs": [],
   "source": [
    "print(facilityAccess.Intervals.Count)\n",
    "print(facilityAccess.Intervals.Item(0).DataSets.GetRow(0))\n",
    "print(facilityAccess.Intervals.Item(1).DataSets.GetRow(0))"
   ]
  },
  {
   "cell_type": "markdown",
   "metadata": {
    "deletable": false,
    "editable": false
   },
   "source": [
    "The `Item` property provides the `IAgDrInterval`, which gives you access to the `DataSets`. From `DataSets`you gain access to the `IAgDrDataSetCollection` interface.  Finally, `IAgDrDataSetCollection` interface gives you access to the calculated data through three different methods: `GetDataSetByName`, `GetRow`, and `ToArray`.  The choice of which method to use will depend on the data provider type, how you plan you use the data, and your personal preference.\n",
    "\n",
    "You are now ready to run the analysis.  This next block of code reads in the data and determines the maximum amount of time each facility does not access the constellation of sensors.  The access information and max outage times are saved to files. The max outage information is also printed out for you to quickly review."
   ]
  },
  {
   "cell_type": "code",
   "execution_count": null,
   "metadata": {
    "deletable": false
   },
   "outputs": [],
   "source": [
    "########## ACTION IS REQUIRED IN THIS BLOCK ##########\n",
    "########## 1 ACTION REQUIRED ##########\n",
    "\n",
    "facilityCount = scenario.Children.GetElements(STKObjects.eFacility).Count\n",
    "\n",
    "for facilityNum in range(facilityCount):\n",
    "    facilityDataSet = facilityAccess.Intervals.Item(facilityNum).DataSets\n",
    "    \n",
    "    el = facilityDataSet.ElementNames\n",
    "\n",
    "########## ACTION 1 : Replace ? with the IAgDrDataSetCollection interface's property that returns the number of rows in the dataset collection ########## \n",
    "    numRows = facilityDataSet.?\n",
    "    \n",
    "    with open(f\"Fac{facilityNum+1:02}Access.txt\", \"w\") as dataFile:\n",
    "        dataFile.write(f\"{el[0]},{el[2]},{el[3]},{el[4]}\\n\")\n",
    "        \n",
    "        for row in range(numRows):\n",
    "            rowData = facilityDataSet.GetRow(row)\n",
    "            dataFile.write(f\"{rowData[0]},{rowData[2]},{rowData[3]},{rowData[4]}\\n\")\n",
    "            \n",
    "    dataFile.close()\n",
    "    \n",
    "    #Deletes old information from MaxOutageData.txt\n",
    "    if facilityNum == 0:\n",
    "        if os.path.exists(\"MaxOutageData.txt\"):\n",
    "            open('MaxOutageData.txt', 'w').close()\n",
    "        \n",
    "    maxOutage=None    \n",
    "    with open(\"MaxOutageData.txt\", \"a\") as outageFile:\n",
    "       \n",
    "        #If only one row of data, coverage is continuous\n",
    "        if numRows == 1:\n",
    "            outageFile.write(f\"Fac{facilityNum+1:02},NA,NA,NA\\n\")\n",
    "            print(f\"Fac{facilityNum+1:02}: No Outage\")\n",
    "        \n",
    "        else:\n",
    "            #Get StartTimes and StopTimes as lists\n",
    "            startTimes = list(facilityDataSet.GetDataSetByName(\"Start Time\").GetValues())\n",
    "            stopTimes = list(facilityDataSet.GetDataSetByName(\"Stop Time\").GetValues())\n",
    "            \n",
    "            #convert from strings to datetimes, and create np arrays\n",
    "            startDatetimes = np.array([dt.datetime.strptime(startTime[:-3], \"%d %b %Y %H:%M:%S.%f\") for startTime in startTimes])\n",
    "            stopDatetimes = np.array([dt.datetime.strptime(stopTime[:-3], \"%d %b %Y %H:%M:%S.%f\") for stopTime in stopTimes])\n",
    "            \n",
    "            #Compute outage times\n",
    "            outages = startDatetimes[1:] - stopDatetimes[:-1]\n",
    "            \n",
    "            #Locate max outage and associated start and stop time\n",
    "            maxOutage = np.amax(outages).total_seconds()\n",
    "            start = stopTimes[np.argmax(outages)]\n",
    "            stop = startTimes[np.argmax(outages)+1]\n",
    "            \n",
    "            #Write out maxoutage data\n",
    "            outageFile.write(f\"Fac{facilityNum+1:02},{maxOutage},{start},{stop}\\n\")\n",
    "            print(f\"Fac{facilityNum+1:02}: {maxOutage} seconds from {start} until {stop}\")\n",
    "    \n",
    "    outageFile.close()\n"
   ]
  },
  {
   "cell_type": "markdown",
   "metadata": {
    "deletable": false,
    "editable": false
   },
   "source": [
    "<br>\n",
    "<div style=\"text-align: right\">\n",
    "    <a href=\"#toc\">Back To Top</a>\n",
    "</div>"
   ]
  },
  {
   "cell_type": "markdown",
   "metadata": {
    "deletable": false,
    "editable": false
   },
   "source": [
    "<a id=\"ex6Qs\"></a>\n",
    "### <font style=\"color: rgb(91,155,213);\">Questions for Exercise 6</font>\n",
    "***\n",
    "21. Which facilities maintain access during the entire scenario time period?\n",
    "    1. Fac10, Fac14, and Fac20\n",
    "    2. Fac02 and Fac09\n",
    "    3. Fac05, Fac06, and Fac18\n",
    "    4. None\n",
    "\n",
    "\n",
    "22. The maximum outage at a ground site that can be tolerated is 5 minutes.  How many of the potential ground sites are viable options?\n",
    "    1. 3\n",
    "    2. 4\n",
    "    3. 5\n",
    "    4. 6\n",
    "\n",
    "\n",
    "23. Which AgEDataProviderType enumeration member represents a data provider that is not time dependent, e.g. facility position?\n",
    "    1. eDrStandAlone\n",
    "    2. eDrDynIgnore\n",
    "    3. eDrFixed\n",
    "    4. eDrStatic\n",
    "\n",
    "\n",
    "24. True or False: The ToArray method of the IAgDrDataSetCollection interface returns the entire dataset collection in column format.\n",
    "    1. True\n",
    "    2. False\n",
    "\n",
    "\n",
    "25. Which facility has the longest break in access?\n",
    "    1. Fac19\n",
    "    2. Fac20\n",
    "    3. Fac13\n",
    "    4. Fac08\n",
    "\n",
    "<br>\n",
    "<div style=\"text-align: right\">\n",
    "    <a href=\"#toc\">Back To Top</a>\n",
    "</div>"
   ]
  },
  {
   "cell_type": "markdown",
   "metadata": {
    "deletable": false,
    "editable": false
   },
   "source": [
    "<a id=\"ex7\"></a>\n",
    "##  <font style=\"color: rgb(0,0,0);\">EXERCISE 7: </font> <font style=\"color: rgb(190,138,67);\">Analyze Access for an Aircraft's Flight</font>\n",
    "In the final exercise, you will use the scenario to evaluate performance when the constellation of sensors is in a degraded state.  For this exercise assume the following:\n",
    "\n",
    "- Fac02 is used to upload updates to satellites in the constellation.\n",
    "- The asset used for updates at Fac02 can only maintain the update link through azimuths of 45-315 degrees.\n",
    "- An aircraft takes off on a given flight plan 30 minutes after the first access time between Fac02 and Sat11\n",
    "- During the aircraft's flight, consider Sat11 to be nonoperational, putting the constellation of sensors into a degraded state.\n",
    "- Due to equipment location, the aircraft can only access objects when they are above 10 degrees in elevation.\n",
    "\n",
    "Given these conditions, you are tasked to evaluate the access between the aircraft and the constellation of sensors during the aircraft's flight.  You have information on the aircraft's flight plan in the file `FlightPlan.txt`.\n",
    "\n",
    "\n",
    "#### Add Access Constraint\n",
    "Access constraints are added with the STK Object Model through the `AddConstraint` method of the `IAgAccessConstraintCollection` interface.  This interface is accessible through an object's `IAgStkObject` interface `AccessConstraints` property.  When adding a constraint, consult the       \n",
    "[AgEAccessConstraints](https://help.agi.com/stkdevkit/index.htm#DocX/STKObjects~Enumerations~AgEAccessConstraints_EN.html?Highlight=AgEAccessConstraints) help page.  From this page you can find the enumeration that represents the desired constraint.  But, you will get information on which interface to use with each constraint.  For example, you can see the IAgAccessCnstrMinMax interface should use the azimuth constraint enumeration, eCstrAzimuthAngle.\n",
    "\n",
    "Edit and run this next block to add the azimuth access constraint to Fac02."
   ]
  },
  {
   "cell_type": "code",
   "execution_count": null,
   "metadata": {
    "deletable": false
   },
   "outputs": [],
   "source": [
    "########## ACTION IS REQUIRED IN THIS BLOCK ##########\n",
    "########## 1 ACTION REQUIRED ##########\n",
    "\n",
    "#Get FacTwo object\n",
    "facTwo = scenario.Children.Item(\"Fac02\")\n",
    "\n",
    "#Add and configure constraint\n",
    "facTwoConstraints = facTwo.AccessConstraints\n",
    "facTwoAzConstraint = facTwoConstraints.AddConstraint(STKObjects.eCstrAzimuthAngle).QueryInterface(STKObjects.IAgAccessCnstrMinMax)\n",
    "\n",
    "facTwoAzConstraint.EnableMin = True\n",
    "\n",
    "########## ACTION 1 : Replace ? with the property that will enable the Max property ##########\n",
    "facTwoAzConstraint.? = True\n",
    "\n",
    "facTwoAzConstraint.Min = 45 #degrees\n",
    "facTwoAzConstraint.Max = 315 #degrees"
   ]
  },
  {
   "cell_type": "markdown",
   "metadata": {
    "deletable": false,
    "editable": false
   },
   "source": [
    "After running this block, open the Properties of Fac02. Then, navigate to the *Constraints &#8594; Basic* page to confirm that the azimuth constraint was added properly.\n",
    "\n",
    "<img src=\"Resources/Fac02AzCnstr.png\" width=\"600\"></img>\n",
    "\n",
    "#### Compute Access\n",
    "To compute the access between Fac02 and Sat11, you can use either the `GetAccess` or `GetAccessToObject` methods of the `IAgStkObject` interface for Fac02.  `GetAccess` expects to be passed the path to the object, while the `GetAccessToObject` method expects to be passed the entire object.  Both of these methods return the `IAgAccess` interface, which provides access to the Data Providers and access computations of the access object.\n",
    "\n",
    "Run the next block to compute access between Fac02 and Sat11."
   ]
  },
  {
   "cell_type": "code",
   "execution_count": null,
   "metadata": {
    "deletable": false
   },
   "outputs": [],
   "source": [
    "#Compute access\n",
    "access = facTwo.GetAccess(\"Satellite/Sat11\")\n",
    "access.ComputeAccess()"
   ]
  },
  {
   "cell_type": "markdown",
   "metadata": {
    "deletable": false,
    "editable": false
   },
   "source": [
    "#### Access Data Provider\n",
    "You can obtain start times for each interval of data from the [Access Data](https://help.agi.com/stkdevkit/index.htm#../Subsystems/dataProviders/Content/html/dataProviders/Access_Data~Access.htm) data provider.  Note, Access Data is an Interval type data provider.  Data for this provider is computed exactly as you calculated the data for the Object Access data provider of the chain object.\n",
    "\n",
    "In this case, use the `DataSets` property of the `IAgDrResult` interface. Then, grab only the access start times with the `GetDataSetByName` method of the `IAgDrDataSetCollection` interface.\n",
    "\n",
    "Run this block to get the access start times from the Access Data data provider.  The block prints out the first access start time.  Remember, the aircraft you create will start its flight plan 30 minutes after this time."
   ]
  },
  {
   "cell_type": "code",
   "execution_count": null,
   "metadata": {
    "deletable": false
   },
   "outputs": [],
   "source": [
    "#Get the access data provider\n",
    "accessDataPrv = access.DataProviders.Item(\"Access Data\").QueryInterface(STKObjects.IAgDataPrvInterval).Exec(scenario2.StartTime, scenario2.StopTime)\n",
    "\n",
    "#Get Start Time data and print the first access start time\n",
    "accessStartTimes = accessDataPrv.DataSets.GetDataSetByName(\"Start Time\").GetValues()\n",
    "print(accessStartTimes[0])"
   ]
  },
  {
   "cell_type": "markdown",
   "metadata": {
    "deletable": false,
    "editable": false
   },
   "source": [
    "#### Insert and Configure an Aircraft\n",
    "Now you will insert and configure the aircraft.  You have the aircraft's flight plan information in `FlightPlan.txt`.  Make sure that file is within the same directory as this Jupyter Notebook.\n",
    "\n",
    "The block below inserts a new aircraft, TestAircraft, into the scenario."
   ]
  },
  {
   "cell_type": "code",
   "execution_count": null,
   "metadata": {
    "deletable": false
   },
   "outputs": [],
   "source": [
    "#Insert aircraft\n",
    "aircraft = scenario.Children.New(STKObjects.eAircraft, \"TestAircraft\")\n",
    "aircraft2 = aircraft.QueryInterface(STKObjects.IAgAircraft)"
   ]
  },
  {
   "cell_type": "markdown",
   "metadata": {
    "deletable": false,
    "editable": false
   },
   "source": [
    "Next, you will change the aircraft attitude profile to a Coordinated turn.  To figure out how to do this, check the [IAgAircraft](https://help.agi.com/stkdevkit/index.htm#DocX/STKObjects~IAgAircraft.html?Highlight=IAgAircraft) help page.  Note, this interface does not immediately appear to provide any way of changing the aircraft's attitude profile.  Looking at the list of Implemented Interfaces on this page, you will notice that `IAgGreatArcVehicle` is listed.  The aircraft by default uses the great arc propagator and checking the page for the `IAgGreateArcVehicle` reveals the `Attitude` property.\n",
    "\n",
    "In previous examples, when you needed to jump from one interface to another, you used the `QueryInterface` method.  But sometimes, this is not needed because the interfaces have been queried and exposed without your intervention.  This is one such case.  Therefore, there is no need to use the `QueryInterface` method to jump from the `IAgAircraft` interface to the `IAgGreatArcVehicle` interface.  Instead, both interfaces are exposed already on `aircraft2`.  You can check this with `dir`."
   ]
  },
  {
   "cell_type": "code",
   "execution_count": null,
   "metadata": {
    "deletable": false,
    "scrolled": true
   },
   "outputs": [],
   "source": [
    "dir(aircraft2)"
   ]
  },
  {
   "cell_type": "markdown",
   "metadata": {
    "deletable": false,
    "editable": false
   },
   "source": [
    "Notice, the block of code above listed all the methods and properties of the `IAgAircraft` interface and the `IAgGreatArcVehicle` interface. When developing, you can use this technique to investigate objects for their exposed methods and properties.  It can save you from extra unnecessary \"casting\" with the `QueryInterface` method.\n",
    "\n",
    "You can run the block below to change the attitude profile to Coordinated Turn.  Take a moment to look through the help pages to determine how the `IAgVeRouteAttitudeStandard` interface was selected.  Begin this investigation by looking at the type of interface provided by the `Attitude` property."
   ]
  },
  {
   "cell_type": "code",
   "execution_count": null,
   "metadata": {
    "deletable": false
   },
   "outputs": [],
   "source": [
    "#Change AC attitude to Coordinated turn\n",
    "attitude = aircraft2.Attitude.QueryInterface(STKObjects.IAgVeRouteAttitudeStandard)\n",
    "attitude.Basic.SetProfileType(STKObjects.eCoordinatedTurn)"
   ]
  },
  {
   "cell_type": "markdown",
   "metadata": {
    "deletable": false,
    "editable": false
   },
   "source": [
    "Now, you can build the aircraft's route.  First, calculate the flight plan's start time.  This should be 30 minutes after the first access start time between Fac02 and Sat11.  In STK Object Model the `IAgDate` interface provides an easy way to work with dates.  To work with `IAgDate`, you will often start by creating a new date object with a method from the `IAgConversionUtility` interface. This interface also provides a host of other useful conversion utilities, as you will see later.  This interface is accessible from the `IAgStkObjectRoot` `ConversionUtility` property.\n",
    "\n",
    "In the next block of code, you create a new date based on the first access start time between Fac02 and Sat11.  Then 30 minutes are added through the `IAgDate` interface's `Add` method.  The [Unit System](https://help.agi.com/stkdevkit/index.htm#../Subsystems/dataProviders/Content/html/units.htm%3FTocPath%3DLibrary%2520Reference%7CData%2520Providers%2520Reference%7C_____1) help page is a helpful resource when working with units.  On this page, you can look up unit names and their abbreviations."
   ]
  },
  {
   "cell_type": "code",
   "execution_count": null,
   "metadata": {
    "deletable": false
   },
   "outputs": [],
   "source": [
    "#Compute aircraft start time\n",
    "convertUtil = stkRoot.ConversionUtility\n",
    "aircraftStartTime = convertUtil.NewDate(\"UTCG\",accessStartTimes[0])\n",
    "aircraftStartTime = aircraftStartTime.Add(\"min\", 30)\n",
    "print(aircraftStartTime.format(\"UTCG\"))"
   ]
  },
  {
   "cell_type": "markdown",
   "metadata": {
    "deletable": false,
    "editable": false
   },
   "source": [
    "You should also get to know the `IAgQuantity` interface, which can add or subtract values of the same dimension type with different units. For example, `IAgQuantity` could find the difference between two distances even if one uses kilometers and the other uses miles. \n",
    "\n",
    "`IAgQuantity` is used similarly to the `IAgData` interface above.  First, start by creating and `IAgQuantity` by using the `NewQuantity` method of the `ConversionUtility`.  From there you can access the methods and dimension of the `IAgQuantity` interface which are useful for basic operations with quantities expressed in dissimilar units and for converting quantities to the desired units.  Take a look a the [IAgQuantity](https://help.agi.com/stkdevkit/index.htm#DocX/STKUtil~IAgQuantity.html?Highlight=IAgQuantity) help page for more information.\n",
    "\n",
    "You can simply run the next block to load and print the flight plan info from `FlightPlan.txt`.  This block stores all flight plan information into and numpy array called `waypoints`.  Each entry of `waypoints` represents a single waypoint of the aircraft flight plan, given as [Latitude (degree), Longitude(degree), MSL Altitude (ft), Speed(knots)]."
   ]
  },
  {
   "cell_type": "code",
   "execution_count": null,
   "metadata": {
    "deletable": false
   },
   "outputs": [],
   "source": [
    "#Load waypoint file\n",
    "waypoints = np.genfromtxt(\"FlightPlan.txt\", skip_header=1, delimiter=\",\")\n",
    "print(waypoints)"
   ]
  },
  {
   "cell_type": "markdown",
   "metadata": {
    "deletable": false,
    "editable": false
   },
   "source": [
    "Before adding any waypoints to the route of the aircraft, setup the aircraft's route properties.  Here again, you can use the GUI to decide what actions to take with STK Object Model.  Use the aircraft's *Basic Route* page of the Properties Browser to decide what code to generate.  This follows closely with how you setup the satellites of the constellation.\n",
    "\n",
    "First, set the aircraft's propagator to the GreatArc propagator.  Next, adjust the Start time to the time you just calculated.  Then, you want to set the Route Calculation Method.  The waypoint file you have lists the speed for each waypoint.  You do not have time or acceleration information for the waypoints, so choose the Smooth Rate option.  Finally, you received MSL altitudes from the altitudes in the flight plan; so, you will want to set the Altitude Refence to MSL.  These actions translate into the following Object Model code:"
   ]
  },
  {
   "cell_type": "code",
   "execution_count": null,
   "metadata": {
    "deletable": false
   },
   "outputs": [],
   "source": [
    "#Set propagtor to GreatArc\n",
    "aircraft2.SetRouteType(STKObjects.ePropagatorGreatArc)\n",
    "route = aircraft2.Route.QueryInterface(STKObjects.IAgVePropagatorGreatArc)\n",
    "\n",
    "#Set route start time\n",
    "startEp = route.EphemerisInterval.GetStartEpoch()\n",
    "startEp.SetExplicitTime(aircraftStartTime.format(\"UTCG\"))\n",
    "route.EphemerisInterval.SetStartEpoch(startEp)\n",
    "\n",
    "#Set the calculation method\n",
    "route.Method = STKObjects.eDetermineTimeAccFromVel\n",
    "\n",
    "#Set the altitude reference to MSL\n",
    "route.SetAltitudeRefType(STKObjects.eWayPtAltRefMSL)"
   ]
  },
  {
   "cell_type": "markdown",
   "metadata": {
    "deletable": false,
    "editable": false
   },
   "source": [
    "It is time to add waypoints to the aircraft's route.  Unfortunately, the waypoint information you have uses different units for Altitude and Speed than what STK and the Object Model expect.  Take a look at the help page for the [IAgVeWAypointsElement](https://help.agi.com/stkdevkit/index.htm#DocX/STKObjects~IAgVeWaypointsElement.html?Highlight=IAgVeWaypointsElement) interface, which represents a single waypoint in the aircraft's flight plan.  Each property description lists the associated Dimension type.  In this case, the [STK Object Model Unit Preferences](https://help.agi.com/stkdevkit/index.htm#stkUtil/introUnitPrefs.htm%3FTocPath%3DUsing%2520Core%2520Libraries%7CSTK%2520Object%2520Model%7CSTK%2520Util%7C_____3) help page is useful.  This page lists the different unit types of the STK Object Model, the default unit type, and any available units.  You can change the unit preferences with the STK Object Model through the `UnitPreferences` property of the `IAgStkObjectRoot` interface. This property provides the `IAgUnitPrefsDimCollection` interface, which will allow you to set the unit preferences with the `SetCurrentUnit` method.\n",
    "\n",
    "Another approach to make unit conversions easy, is to leverage the `ConvertQuantity` method of the `IAgConversionUtility` interface, which you learned about when calculating the route start time.\n",
    "\n",
    "In this next block, the unit preferences are changed to align with the units needed to accurately input the aircrafts speed.  The block uses the conversion utility to convert the altitude from feet to nautical miles. This aligns with the DistanceUnit setting.  After all the waypoints are inserted, the unit preferences are set back to default units."
   ]
  },
  {
   "cell_type": "code",
   "execution_count": null,
   "metadata": {
    "deletable": false
   },
   "outputs": [],
   "source": [
    "#Set unit prefs\n",
    "stkRoot.UnitPreferences.SetCurrentUnit(\"DistanceUnit\",\"nm\")\n",
    "stkRoot.UnitPreferences.SetCurrentUnit(\"TimeUnit\",\"hr\")\n",
    "\n",
    "#Add aircraft waypoints to route\n",
    "for waypoint in waypoints:\n",
    "    newWaypoint = route.Waypoints.Add()\n",
    "    newWaypoint.Latitude = waypoint[0] #degree\n",
    "    newWaypoint.Longitude = waypoint[1] #degree\n",
    "    newWaypoint.Altitude = convertUtil.ConvertQuantity(\"DistanceUnit\",\"ft\",\"nm\", waypoint[2]) #ft->nm\n",
    "    newWaypoint.Speed = waypoint[3] #knots\n",
    "    newWaypoint.TurnRadius = 1.8 #nautical Miles\n",
    "\n",
    "#Propagate and reset unit prefs\n",
    "route.Propagate()\n",
    "stkRoot.UnitPreferences.ResetUnits()"
   ]
  },
  {
   "cell_type": "markdown",
   "metadata": {
    "deletable": false,
    "editable": false
   },
   "source": [
    "To complete the setup of the aircraft, you can run this block to adjust the 2D Graphics properties and set the aircraft model to be the C-130 Hercules."
   ]
  },
  {
   "cell_type": "code",
   "execution_count": null,
   "metadata": {
    "deletable": false
   },
   "outputs": [],
   "source": [
    "#Set graphics properties of the aircraft\n",
    "aircraftBasicGfxAttributes = aircraft2.Graphics.Attributes.QueryInterface(STKObjects.IAgVeGfxAttributesBasic)\n",
    "aircraftBasicGfxAttributes.Color = 16711935 #Magenta\n",
    "aircraftBasicGfxAttributes.Line.Width = STKObjects.e3\n",
    "\n",
    "#Switch to C-130 Model\n",
    "modelFile = aircraft2.VO.Model.ModelData.QueryInterface(STKObjects.IAgVOModelFile)\n",
    "modelFile.Filename = os.path.abspath(uiApp.Path[:-3] + \"STKData\\VO\\Models\\Air\\c-130_hercules.mdl\")"
   ]
  },
  {
   "cell_type": "markdown",
   "metadata": {
    "deletable": false,
    "editable": false
   },
   "source": [
    "#### Finish Out the Analysis\n",
    "In this final section you will apply a constraint to the aircraft.  Then, you will create a new Constellation object to represent the degraded constellation of sensors and construct a new chain between the aircraft and the degraded constellation.  Finally, you will analyze the access and extract additional information from the scenario.\n",
    "\n",
    "Start by adding an elevation constraint to the aircraft.  This closely mirrors the access constraint that was added to Fac02 earlier."
   ]
  },
  {
   "cell_type": "code",
   "execution_count": null,
   "metadata": {
    "deletable": false
   },
   "outputs": [],
   "source": [
    "########## ACTION IS REQUIRED IN THIS BLOCK ##########\n",
    "########## 1 ACTION REQUIRED ##########\n",
    "\n",
    "#Add aircraft constraint\n",
    "aircraftConstraints = aircraft.AccessConstraints\n",
    "\n",
    "########## ACTION 1 : Replace ? with the correct interface ##########\n",
    "elConstraint = aircraftConstraints.AddConstraint(STKObjects.eCstrElevationAngle).QueryInterface(?)\n",
    "elConstraint.EnableMin = True\n",
    "elConstraint.Min = 10"
   ]
  },
  {
   "cell_type": "markdown",
   "metadata": {
    "deletable": false,
    "editable": false
   },
   "source": [
    "Next, build an additional constellation of satellite sensors, removing Sat11/Sensor11 to create a degraded constellation."
   ]
  },
  {
   "cell_type": "code",
   "execution_count": null,
   "metadata": {
    "deletable": false
   },
   "outputs": [],
   "source": [
    "#Insert and configure the degraded sensor constellation\n",
    "degradeSensorConstellation = sensorConstellation.CopyObject(\"DegradedSensorConstellation\")\n",
    "degradeSensorConstellation2 = degradeSensorConstellation.QueryInterface(STKObjects.IAgConstellation)\n",
    "degradeSensorConstellation2.Objects.RemoveName(\"Satellite/Sat11/Sensor/Sensor11\")"
   ]
  },
  {
   "cell_type": "markdown",
   "metadata": {
    "deletable": false,
    "editable": false
   },
   "source": [
    "Create a new Chain object and configure it's 2D Graphics properties. Assign the aircraft and degraded constellation to the Chain."
   ]
  },
  {
   "cell_type": "code",
   "execution_count": null,
   "metadata": {
    "deletable": false
   },
   "outputs": [],
   "source": [
    "#Insert New Chain\n",
    "aircraftChain = scenario.Children.New(STKObjects.eChain, \"AcftToSensors\")\n",
    "aircraftChain2 = aircraftChain.QueryInterface(STKObjects.IAgChain)\n",
    "\n",
    "#Configure chain graphics\n",
    "aircraftChain2.Graphics.Animation.Color = 65280 #Green\n",
    "aircraftChain2.Graphics.Animation.LineWidth = STKObjects.e3\n",
    "aircraftChain2.Graphics.Animation.IsHighlightVisible = False\n",
    "\n",
    "#Add objects to chain\n",
    "aircraftChain2.Objects.Add(aircraft.Path)\n",
    "aircraftChain2.Objects.Add(degradeSensorConstellation.Path)\n",
    "aircraftChain2.ComputeAccess()"
   ]
  },
  {
   "cell_type": "markdown",
   "metadata": {
    "deletable": false,
    "editable": false
   },
   "source": [
    "Now, extract the access data from the chain object.  This is almost identical to the procedure used for the previous chain, except this time the Complete Access data provider gives all the access information.  Note, this is also an Interval type data provider.  To calculate the data, you must specify a start and stop time for the analysis.  The access data is saved to a file and printed out. The max outage time is simply printed below."
   ]
  },
  {
   "cell_type": "code",
   "execution_count": null,
   "metadata": {
    "deletable": false,
    "scrolled": true
   },
   "outputs": [],
   "source": [
    "########## ACTION IS REQUIRED IN THIS BLOCK ##########\n",
    "########## 1 ACTION REQUIRED ##########\n",
    "\n",
    "########## ACTION 1 : Replace ? with the scenario start time ##########\n",
    "aircraftAccess = aircraftChain.DataProviders.Item(\"Complete Access\").QueryInterface(STKObjects.IAgDataPrvInterval).Exec(?,scenario2.StopTime)\n",
    "\n",
    "\n",
    "el = aircraftAccess.DataSets.ElementNames\n",
    "numRows = aircraftAccess.DataSets.RowCount\n",
    "\n",
    "with open(\"AircraftAccess.txt\", \"w\") as dataFile:\n",
    "    dataFile.write(f\"{el[0]},{el[1]},{el[2]},{el[3]}\\n\")\n",
    "    print(f\"{el[0]},{el[1]},{el[2]},{el[3]}\")\n",
    "    \n",
    "    for row in range(numRows):\n",
    "        rowData = aircraftAccess.DataSets.GetRow(row)\n",
    "        dataFile.write(f\"{rowData[0]},{rowData[1]},{rowData[2]},{rowData[3]}\\n\")\n",
    "        print(f\"{rowData[0]},{rowData[1]},{rowData[2]},{rowData[3]}\")\n",
    "        \n",
    "if numRows == 1:\n",
    "    print(f\"No Outage\")\n",
    "\n",
    "else:\n",
    "    #Get StartTimes and StopTimes as lists\n",
    "    startTimes = list(aircraftAccess.DataSets.GetDataSetByName(\"Start Time\").GetValues())\n",
    "    stopTimes = list(aircraftAccess.DataSets.GetDataSetByName(\"Stop Time\").GetValues())\n",
    "    \n",
    "    #convert from strings to datetimes, and create np arrays\n",
    "    startDatetimes = np.array([dt.datetime.strptime(startTime[:-3], \"%d %b %Y %H:%M:%S.%f\") for startTime in startTimes])\n",
    "    stopDatetimes = np.array([dt.datetime.strptime(stopTime[:-3], \"%d %b %Y %H:%M:%S.%f\") for stopTime in stopTimes])\n",
    "    \n",
    "    #Compute outage times\n",
    "    outages = startDatetimes[1:] - stopDatetimes[:-1]\n",
    "    \n",
    "    #Locate max outage and associated start and stop time\n",
    "    maxOutage = np.amax(outages).total_seconds()\n",
    "    start = stopTimes[np.argmax(outages)]\n",
    "    stop = startTimes[np.argmax(outages)+1]\n",
    "    \n",
    "    #Write out maxoutage data\n",
    "    print(f\"\\nAC Max Outage: {maxOutage} seconds from {start} until {stop}\")"
   ]
  },
  {
   "cell_type": "markdown",
   "metadata": {
    "deletable": false,
    "editable": false
   },
   "source": [
    "You have seen how to work with the Interval type data provider several times: with the Chain access data and with the access data between Fac02 and Sat11.  It is useful to examine how the two other types of data providers work as well.  To gain some experience with that, you will generate a quick print out of the aircraft's latitude, longitude, and altitude at 10 minute intervals over the entire flight.\n",
    "\n",
    "The LLA State data provider will generate the data you want about the aircraft's position over the flight path.  The [LLA State](https://help.agi.com/stkdevkit/index.htm#../Subsystems/dataProviders/Content/html/dataProviders/LLA_State~Vehicle.htm) data provider's help page specifies that it is a Time-varying type data provider, and that the provider supplies two separate data provider groups.  The presence of these groups changes slightly how you will access the providers data.\n",
    "\n",
    "In the next block, you obtain a pointer to the `IAgDataProviderGroup` interface. You must first specify which data provider group you are interested in, before you can access the `IAgDataPrvTimeVar` interface. The `IAgDataPrvTimeVar` interface is for Time-varying data providers."
   ]
  },
  {
   "cell_type": "code",
   "execution_count": null,
   "metadata": {
    "deletable": false
   },
   "outputs": [],
   "source": [
    "# Get the aircraft LLA State Data Provider\n",
    "aircraftLLA = aircraft.DataProviders.Item(\"LLA State\").QueryInterface(STKObjects.IAgDataProviderGroup)"
   ]
  },
  {
   "cell_type": "markdown",
   "metadata": {
    "deletable": false,
    "editable": false
   },
   "source": [
    "Now, you can use the `IAgDataProviderGroup` interface to specify the data provider group.  In this case you will specify Fixed, then cast this to the `IAgDataPrvTimeVar` interface.  For this interface, you will tell the data provider to calculate the data by providing a start time, a stop time, and a step time."
   ]
  },
  {
   "cell_type": "code",
   "execution_count": null,
   "metadata": {
    "deletable": false
   },
   "outputs": [],
   "source": [
    "#Specify the Fixed Group of the data provider\n",
    "aircraftLLAFixed = aircraftLLA.Group.Item(\"Fixed\").QueryInterface(STKObjects.IAgDataPrvTimeVar).Exec(scenario2.StartTime, scenario2.StopTime, 600)"
   ]
  },
  {
   "cell_type": "markdown",
   "metadata": {
    "deletable": false,
    "editable": false
   },
   "source": [
    "Here, all of the data elements from the provider are fetched with the `ToArray` method.  In this example, a numpy array is created, which provides easy access to each of these data provider elements."
   ]
  },
  {
   "cell_type": "code",
   "execution_count": null,
   "metadata": {
    "deletable": false,
    "scrolled": true
   },
   "outputs": [],
   "source": [
    "#Set unit prefs\n",
    "stkRoot.UnitPreferences.SetCurrentUnit(\"DistanceUnit\",\"ft\")\n",
    "\n",
    "#Extract desired aircraft LLA data\n",
    "el = aircraftLLAFixed.DataSets.ElementNames\n",
    "aircraftLLAFixedRes = np.array(aircraftLLAFixed.DataSets.ToArray())\n",
    "\n",
    "print(f\"{el[0]:30} {el[1]:20} {el[2]:28} {el[11]:15}\")\n",
    "for lla in aircraftLLAFixedRes:\n",
    "    print(f\"{lla[0]:30} {lla[1]:20} {lla[2]:20} {round(float(lla[11])):15}\")\n",
    "\n",
    "#Reset unit prefs\n",
    "stkRoot.UnitPreferences.ResetUnits()"
   ]
  },
  {
   "cell_type": "markdown",
   "metadata": {
    "deletable": false,
    "editable": false
   },
   "source": [
    "The final data provider type is the Fixed data type.  To work with this provider type, the `IAgDataPrvFixed` interface is used.  When calling the `Exec` method of the `IAgDataPrvFixed` interface, no arguments are needed.  The data provided by Fixed data provider types are static and do not depend on time.\n",
    "\n",
    "In this final block, position information of the Fac02 is reported out from the All Position data provider.  This provider gives position data in different element representations computed in the object's central body fixed coordinate system."
   ]
  },
  {
   "cell_type": "code",
   "execution_count": null,
   "metadata": {
    "deletable": false
   },
   "outputs": [],
   "source": [
    "#Get aircraft All Postion data provider and print the associated data\n",
    "facTwoPosData = facTwo.DataProviders.Item(\"All Position\").QueryInterface(STKObjects.IAgDataPrvFixed).Exec()\n",
    "els = facTwoPosData.DataSets.ElementNames\n",
    "data = facTwoPosData.DataSets.ToArray()[0]\n",
    "for idx, el in enumerate(els):\n",
    "    print(f\"{el}: {data[idx]}\")"
   ]
  },
  {
   "cell_type": "markdown",
   "metadata": {
    "deletable": false,
    "editable": false
   },
   "source": [
    "<br>\n",
    "<div style=\"text-align: right\">\n",
    "    <a href=\"#toc\">Back To Top</a>\n",
    "</div>"
   ]
  },
  {
   "cell_type": "markdown",
   "metadata": {
    "deletable": false
   },
   "source": [
    "<a id=\"ex7Qs\"></a>\n",
    "### <font style=\"color: rgb(91,155,213);\">Questions for Exercise 7</font>\n",
    "***\n",
    "26. At approximately what time does the largest break in access between the aircraft and the degraded constellation start?\n",
    "    1. 1 Jun 2016 18:49:28\n",
    "    2. 1 Jun 2016 16:42:15\n",
    "    3. 2 Jun 2016 03:20:39\n",
    "    4. 1 Jun 2016 17:22:46\n",
    "\n",
    "\n",
    "27. What is the approximate latitude and longitude of the aircraft when the largest break in access between it and the degraded constellation starts?\n",
    "    1. 60.382, -151.248\n",
    "    2. 39.809, 141.186\n",
    "    3. 47.470, 154.813\n",
    "    4. 57.855, -155.491\n",
    "\n",
    "\n",
    "28. True or False.  In STK, a Compound Dimension refers to a dimension built upon a set of simple dimensions?\n",
    "    1. True\n",
    "    2. False\n",
    "\n",
    "\n",
    "29. All of the following are available units for the STK Object Model unit preference SmallDistanceUnit Except?\n",
    "    1. Meters(m)\n",
    "    2. Decimeters (dm)\n",
    "    3. Centimeters (cm)\n",
    "    4. Millimeters (mm)\n",
    "\n",
    "\n",
    "30. All of the following correctly pair the Data Provider Type, with the corresponding STK Object Model interface, EXCEPT\n",
    "    1. Time-varying : IAgDataPrvTimeVar\n",
    "    2. Interval : IAgDataPrvInterval\n",
    "    3. StandAlone : IAgDataPrvStdAln\n",
    "    4. Fixed : IAgDataPrvFixed\n",
    "    \n",
    "<br>\n",
    "<div style=\"text-align: right\">\n",
    "    <a href=\"#toc\">Back To Top</a>\n",
    "</div>"
   ]
  },
  {
   "cell_type": "markdown",
   "metadata": {
    "deletable": false,
    "editable": false
   },
   "source": [
    "<a id=\"final\"></a>\n",
    "## <font style=\"color: rgb(190,138,67);\">FINAL THOUGHTS</font>\n",
    "***\n",
    "That concludes the STK Integration Certification exercises.  The goal of these tasks is to increase your familiarity with Connect and the STK Object Model. You should also feel confident that you can locate information within the help system.  There are several additional resources available through the STK Programing Interface Help system to further your skills and knowledge.  These resources cover additional integration topics including: plugin scripts, UI Plugins, and STK Engine.\n",
    "\n",
    "When it comes to integration and STK, there is a rich set of options that cover just about every development task you might face.  From a high level perspective, the development tasks available with STK fall into the following categories:\n",
    "- [Automate Repetitive Tasks](https://help.agi.com/stkdevkit/index.htm#automationTree/TechnologyAutomate.htm)\n",
    "- [Integrate With Other Applications](https://help.agi.com/stkdevkit/index.htm#automationTree/TechnologyIntegrate.htm)\n",
    "- [Extend AGI Products](https://help.agi.com/stkdevkit/index.htm#automationTree/TechnologyExtend.htm%3FTocPath%3DSelect%2520the%2520Right%2520Technology%7CExtend%2520AGI%2520Products%7C_____0)\n",
    "- [Develop Custom Applications](https://help.agi.com/stkdevkit/index.htm#stkEngine/Overview.htm%3FTocPath%3DSelect%2520the%2520Right%2520Technology%7CDevelop%2520Custom%2520Applications%7C_____0)\n",
    "- [Process Real-Time Data](https://help.agi.com/stkdevkit/index.htm#rt3/overview.htm)\n",
    "\n",
    "If you cannot decide which avenue to take, you can use our [clickable decision tree](https://help.agi.com/stkdevkit/index.htm#automationTree/tree.htm) to help you select among these categories.\n",
    "\n",
    "<a id=\"\"></a>\n",
    "### Submit Your Test\n",
    "Follow the link in your **registration email** to input your answers in ClassMarker and to submit the exam for grading. Within the registration email, you will find specific instructions to submit your test. \n",
    "\n",
    "Once you submit your test, we will grade it and get back to you within 5 business days. If you have a special circumstance, please let us know and we will try our best to accommodate your request.\n",
    "\n",
    "<br>\n",
    "<div style=\"text-align: right\">\n",
    "    <a href=\"#toc\">Back To Top</a>\n",
    "</div>"
   ]
  }
 ],
 "metadata": {
  "celltoolbar": "Edit Metadata",
  "kernelspec": {
   "display_name": "Python 3",
   "language": "python",
   "name": "python3"
  },
  "language_info": {
   "codemirror_mode": {
    "name": "ipython",
    "version": 3
   },
   "file_extension": ".py",
   "mimetype": "text/x-python",
   "name": "python",
   "nbconvert_exporter": "python",
   "pygments_lexer": "ipython3",
   "version": "3.7.7"
  }
 },
 "nbformat": 4,
 "nbformat_minor": 2
}
